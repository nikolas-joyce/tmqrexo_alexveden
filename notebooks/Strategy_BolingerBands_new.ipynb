{
 "cells": [
  {
   "cell_type": "code",
   "execution_count": 1,
   "metadata": {
    "collapsed": false
   },
   "outputs": [
    {
     "name": "stdout",
     "output_type": "stream",
     "text": [
      "Populating the interactive namespace from numpy and matplotlib\n"
     ]
    }
   ],
   "source": [
    "%pylab inline\n",
    "%load_ext autoreload\n",
    "%autoreload 2"
   ]
  },
  {
   "cell_type": "code",
   "execution_count": 3,
   "metadata": {
    "collapsed": false
   },
   "outputs": [],
   "source": [
    "import sys,os\n",
    "sys.path.append('..')\n",
    "from backtester import matlab, backtester\n",
    "from backtester.analysis import *\n",
    "from backtester.strategy import StrategyBase, OptParam, OptParamArray\n",
    "from backtester.swarms.ranking import SwarmRanker\n",
    "from backtester.swarms.rebalancing import SwarmRebalance\n",
    "from backtester.swarms.filters import SwarmFilter\n",
    "from backtester.costs import CostsManagerEXOFixed\n",
    "from backtester.exoinfo import EXOInfo\n",
    "from backtester.swarms.rankingclasses import *\n",
    "from backtester.swarms.swarm import Swarm\n",
    "\n",
    "\n",
    "import pandas as pd\n",
    "import numpy as np\n",
    "import scipy"
   ]
  },
  {
   "cell_type": "code",
   "execution_count": 4,
   "metadata": {
    "collapsed": false
   },
   "outputs": [],
   "source": [
    "from strategies.strategy_bbands import StrategyBollingerBands"
   ]
  },
  {
   "cell_type": "markdown",
   "metadata": {},
   "source": [
    "## Script settings"
   ]
  },
  {
   "cell_type": "code",
   "execution_count": 5,
   "metadata": {
    "collapsed": false
   },
   "outputs": [],
   "source": [
    "STRATEGY_CONTEXT = {\n",
    "    'strategy': { \n",
    "        'class': StrategyBollingerBands,\n",
    "        'exo_name': 'strategy_340240',        \n",
    "        'opt_params': [\n",
    "                        #OptParam(name, default_value, min_value, max_value, step)\n",
    "                        OptParamArray('Direction', [1]),\n",
    "                        OptParam('BB_Period', 20, 10, 30, 10),\n",
    "                        OptParam('BB_K', 2, 2, 5, 1),\n",
    "            \n",
    "                        ### Trend 0:5\n",
    "                        #OptParamArray('RulesIndex', np.arange(26)[0:5]),\n",
    "            \n",
    "                        ### Vola breakout 5:10\n",
    "                        #OptParamArray('RulesIndex', np.arange(26)[5:10]),\n",
    "            \n",
    "                        ### High vola(BBands width percent rank > 80-90) 10:15\n",
    "                        #OptParamArray('RulesIndex', np.arange(26)[10:15]),\n",
    "            \n",
    "                        ### %B rules 15:26\n",
    "                        OptParamArray('RulesIndex', np.arange(26)[15:26]),\n",
    "            \n",
    "                        ### All rules\n",
    "                        #OptParamArray('RulesIndex', np.arange(26)[:]),\n",
    "            \n",
    "                        OptParam('MedianPeriod', 5, 1, 20, 1)\n",
    "            ],\n",
    "    },\n",
    "    'swarm': {\n",
    "        'members_count': 2,\n",
    "        'ranking_class': RankerHighestReturns(return_period=14),\n",
    "        'rebalance_time_function': SwarmRebalance.every_friday,\n",
    "\n",
    "    },\n",
    "    'costs':{\n",
    "        'manager': CostsManagerEXOFixed,\n",
    "        'context': {\n",
    "            'costs_options': 3.0,\n",
    "            'costs_futures': 3.0,\n",
    "        }\n",
    "    }\n",
    "}"
   ]
  },
  {
   "cell_type": "markdown",
   "metadata": {},
   "source": [
    "# Backtest class based strategy"
   ]
  },
  {
   "cell_type": "markdown",
   "metadata": {},
   "source": [
    "### WARNING! Do not run next block if you want to load swarm from file!"
   ]
  },
  {
   "cell_type": "code",
   "execution_count": 5,
   "metadata": {
    "collapsed": false
   },
   "outputs": [],
   "source": [
    "smgr = Swarm(STRATEGY_CONTEXT)\n",
    "smgr.run_swarm()\n",
    "smgr.pick()\n",
    "\n",
    "# Saving results to swarms directory\n",
    "smgr.save('./swarms/')"
   ]
  },
  {
   "cell_type": "markdown",
   "metadata": {},
   "source": [
    "### WARNING! Loading swarm from file (don't run next cell if you want new swarm instance)"
   ]
  },
  {
   "cell_type": "code",
   "execution_count": 6,
   "metadata": {
    "collapsed": false
   },
   "outputs": [],
   "source": [
    "#smgr = Swarm.load(strategy_context=STRATEGY_CONTEXT, directory='./swarms/')\n",
    "#print('Loading: '+smgr.get_swarm_name())"
   ]
  },
  {
   "cell_type": "code",
   "execution_count": null,
   "metadata": {
    "collapsed": false,
    "scrolled": false
   },
   "outputs": [
    {
     "data": {
      "image/png": "[encoded data removed]",
      "text/plain": [
       "<matplotlib.figure.Figure at 0x7fda31b12be0>"
      ]
     },
     "metadata": {},
     "output_type": "display_data"
    }
   ],
   "source": [
    "figsize(10,10)\n",
    "smgr.picked_equity.plot(label='Picked swarm equity');\n",
    "smgr.raw_equity.plot(label='Average swarm equity');\n",
    "legend(loc=2);"
   ]
  },
  {
   "cell_type": "code",
   "execution_count": null,
   "metadata": {
    "collapsed": false,
    "scrolled": true
   },
   "outputs": [
    {
     "data": {
      "text/plain": [
       "<matplotlib.axes._subplots.AxesSubplot at 0x7fda23df24e0>"
      ]
     },
     "execution_count": 8,
     "metadata": {},
     "output_type": "execute_result"
    }
   ],
   "source": [
    "smgr.raw_swarm.plot(legend=False)"
   ]
  },
  {
   "cell_type": "code",
   "execution_count": null,
   "metadata": {
    "collapsed": false,
    "scrolled": false
   },
   "outputs": [],
   "source": [
    "#\n",
    "# To export swarms above to .csv, uncomment this\n",
    "#\n",
    "\n",
    "#swarm_df = smgr.swarm\n",
    "#swarm_df.to_csv('./temp_swarms/ichi_swarm.csv')"
   ]
  },
  {
   "cell_type": "code",
   "execution_count": null,
   "metadata": {
    "collapsed": false
   },
   "outputs": [],
   "source": [
    "figsize(10,10)\n",
    "smgr.picked_equity.plot(label='Picked swarm equity');\n",
    "smgr.raw_equity.plot(label='Average swarm equity');\n",
    "legend(loc=2);"
   ]
  },
  {
   "cell_type": "code",
   "execution_count": null,
   "metadata": {
    "collapsed": false
   },
   "outputs": [],
   "source": [
    "smgr.picked_swarm.plot()"
   ]
  },
  {
   "cell_type": "markdown",
   "metadata": {},
   "source": [
    "# Swarm exposure"
   ]
  },
  {
   "cell_type": "code",
   "execution_count": null,
   "metadata": {
    "collapsed": false
   },
   "outputs": [],
   "source": [
    "smgr.picked_exposure.sum(axis=1).rolling(10).mean().plot()"
   ]
  },
  {
   "cell_type": "markdown",
   "metadata": {},
   "source": [
    "# Swarm statistics"
   ]
  },
  {
   "cell_type": "markdown",
   "metadata": {},
   "source": [
    "#### Non-picked swarm stats"
   ]
  },
  {
   "cell_type": "code",
   "execution_count": null,
   "metadata": {
    "collapsed": false
   },
   "outputs": [],
   "source": [
    "smgr.picked_stats"
   ]
  },
  {
   "cell_type": "markdown",
   "metadata": {},
   "source": [
    "## Exo information"
   ]
  },
  {
   "cell_type": "code",
   "execution_count": null,
   "metadata": {
    "collapsed": false
   },
   "outputs": [],
   "source": [
    "smgr.strategy.exoinfo.exo_info"
   ]
  },
  {
   "cell_type": "code",
   "execution_count": null,
   "metadata": {
    "collapsed": false
   },
   "outputs": [],
   "source": [
    "smgr.strategy.exoinfo.data.exo.plot()"
   ]
  },
  {
   "cell_type": "markdown",
   "metadata": {},
   "source": [
    "### Global filter information (obsolete)\n"
   ]
  },
  {
   "cell_type": "markdown",
   "metadata": {},
   "source": [
    "## Costs information (per 1-exo unit)"
   ]
  },
  {
   "cell_type": "code",
   "execution_count": null,
   "metadata": {
    "collapsed": false
   },
   "outputs": [],
   "source": [
    "figsize(10,5)\n",
    "smgr.strategy.costs.plot()"
   ]
  },
  {
   "cell_type": "markdown",
   "metadata": {
    "collapsed": true
   },
   "source": [
    "## Margin graphs"
   ]
  },
  {
   "cell_type": "markdown",
   "metadata": {},
   "source": [
    "### EXO Margin (per 1 EXO unit)"
   ]
  },
  {
   "cell_type": "code",
   "execution_count": null,
   "metadata": {
    "collapsed": false
   },
   "outputs": [],
   "source": [
    "smgr.strategy.exoinfo.margin().plot()"
   ]
  },
  {
   "cell_type": "markdown",
   "metadata": {
    "collapsed": true
   },
   "source": [
    "# Saving results"
   ]
  },
  {
   "cell_type": "code",
   "execution_count": null,
   "metadata": {
    "collapsed": false
   },
   "outputs": [],
   "source": [
    "smgr.save('./swarms/')"
   ]
  },
  {
   "cell_type": "code",
   "execution_count": null,
   "metadata": {
    "collapsed": true
   },
   "outputs": [],
   "source": []
  }
 ],
 "metadata": {
  "kernelspec": {
   "display_name": "Python [Root]",
   "language": "python",
   "name": "Python [Root]"
  },
  "language_info": {
   "codemirror_mode": {
    "name": "ipython",
    "version": 3
   },
   "file_extension": ".py",
   "mimetype": "text/x-python",
   "name": "python",
   "nbconvert_exporter": "python",
   "pygments_lexer": "ipython3",
   "version": "3.5.2"
  }
 },
 "nbformat": 4,
 "nbformat_minor": 0
}
