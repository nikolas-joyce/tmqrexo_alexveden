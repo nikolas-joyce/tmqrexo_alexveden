{
 "cells": [
  {
   "cell_type": "code",
   "execution_count": null,
   "metadata": {
    "collapsed": false
   },
   "outputs": [],
   "source": [
    "%pylab inline\n",
    "%load_ext autoreload\n",
    "%autoreload 2"
   ]
  },
  {
   "cell_type": "code",
   "execution_count": null,
   "metadata": {
    "collapsed": false
   },
   "outputs": [],
   "source": [
    "import sys,os\n",
    "sys.path.append('..')\n",
    "from backtester import matlab, backtester\n",
    "from backtester.analysis import *\n",
    "from backtester.strategy import StrategyBase, OptParam, OptParamArray\n",
    "from backtester.swarms.manager import SwarmManager\n",
    "from backtester.swarms.ranking import SwarmRanker\n",
    "from backtester.swarms.rebalancing import SwarmRebalance\n",
    "from backtester.swarms.filters import SwarmFilter\n",
    "from backtester.costs import CostsManagerEXOFixed\n",
    "from backtester.exoinfo import EXOInfo\n",
    "\n",
    "from backtester.positionsizing import PositionSizingBase\n",
    "import pandas as pd\n",
    "import numpy as np\n",
    "import scipy"
   ]
  },
  {
   "cell_type": "code",
   "execution_count": null,
   "metadata": {
    "collapsed": true
   },
   "outputs": [],
   "source": [
    "\n",
    "from strategies.strategy_macross_with_trail import StrategyMACrossTrail"
   ]
  },
  {
   "cell_type": "markdown",
   "metadata": {},
   "source": [
    "## Script settings"
   ]
  },
  {
   "cell_type": "code",
   "execution_count": null,
   "metadata": {
    "collapsed": false
   },
   "outputs": [],
   "source": [
    "STRATEGY_CONTEXT = {\n",
    "    'strategy': { \n",
    "        'class': StrategyMACrossTrail,\n",
    "        'exo_name': 'strategy_270225',\n",
    "        'direction': -1,\n",
    "        'opt_params': [\n",
    "                #OptParam(name, default_value, min_value, max_value, step)\n",
    "                OptParamArray('Direction', [-1]),\n",
    "                OptParam('SlowMAPeriod', 20, 10, 50, 40),\n",
    "                OptParam('FastMAPeriod', 2, 5, 10, 5),\n",
    "                OptParam('MedianPeriod', 5, 5, 20, 3)\n",
    "            ],\n",
    "    },    \n",
    "    'swarm': {\n",
    "        'members_count': 5,\n",
    "        'ranking_function': SwarmRanker.highestreturns_universal,\n",
    "        'ranking_params': {\n",
    "            # 'ranking_type' - global ranking mode\n",
    "            # 'returns' - main ranking function based on highest returns N days\n",
    "            # 'relstr' - relative strength (equity / MA(equity))\n",
    "            'ranking_type': 'relstr',\n",
    "            \n",
    "            # Used for 'ranking_type' = 'relstr'\n",
    "            'ranking_relstr_ma_period': 90,\n",
    "            'ranking_relstr_upperbound': 1.4,\n",
    "            'ranking_relstr_lowerbound': 0.98,\n",
    "            \n",
    "            # Used for 'ranking_type' = 'returns'\n",
    "            # Ranking function exta parameters (main ranking metric period)\n",
    "            'ranking_returns_period': 14,\n",
    "            \n",
    "            # Ignoring all members which equity less than it's MovingAverage({ignore_eqty_less_ma_period})\n",
    "            #'ignore_eqty_less_ma': True,                    # Comment the line to turn off\n",
    "            'ignore_eqty_less_ma_period': 90,               # Equity Moving Average period\n",
    "            \n",
    "            # Ignoring all members which equity less than TOP swarmmembers quantile\n",
    "            #'ignore_eqty_less_top_quantile': True,          # Comment the line to turn off\n",
    "            'ignore_eqty_less_top_quantile_threshold': 0.9,  # Ignore all members less than 0.9 quantile\n",
    "            \n",
    "            # Ignoring all swarm members wich have negative MA slope \n",
    "            #'ignore_eqty_with_negative_ma_slope': True,     # Comment the line to turn off\n",
    "            'ignore_eqty_with_negative_ma_period': 90,      # Period of moving average\n",
    "            'ignore_eqty_with_negative_ma_slope_period': 5, # Slope lookback filter = MA-MA[-slope_lookback] <= 0\n",
    "            \n",
    "            # Ignoring all swarm members when the change of AvgSwarm equity is negative\n",
    "            #'ignore_if_avg_swarm_negative_change': True,      # Comment the line to turn off\n",
    "            'ignore_if_avg_swarm_negative_change_period': 14, # AvgSwarm change period \n",
    "            \n",
    "        },\n",
    "        'rebalance_time_function': SwarmRebalance.every_monday,    \n",
    "        # SwarmFilter.swingpoint_daily - original TMQR Swingpoint logics from Matlab\n",
    "        # SwarmFilter.volatility_chandelier - Alex's volatility based logic (old name: SwarmFilter.swingpoint_threshold)\n",
    "        'global_filter_function': SwarmFilter.swingpoint_daily,\n",
    "        'global_filter_params': {\n",
    "            'up_factor': 10.0,\n",
    "            'down_factor': 10.0,\n",
    "            'period': 5,\n",
    "        },      \n",
    "    },\n",
    "    'costs':{\n",
    "        'manager': CostsManagerEXOFixed,\n",
    "        'context': {\n",
    "            'costs_options': 3.0,\n",
    "            'costs_futures': 3.0,\n",
    "        }\n",
    "    }\n",
    "}"
   ]
  },
  {
   "cell_type": "markdown",
   "metadata": {},
   "source": [
    "# Backtest class based strategy"
   ]
  },
  {
   "cell_type": "code",
   "execution_count": null,
   "metadata": {
    "collapsed": false
   },
   "outputs": [],
   "source": [
    "smgr = SwarmManager(STRATEGY_CONTEXT)\n",
    "smgr.run_swarm()\n",
    "smgr.pick()"
   ]
  },
  {
   "cell_type": "code",
   "execution_count": null,
   "metadata": {
    "collapsed": false
   },
   "outputs": [],
   "source": [
    "figsize(15,10)\n",
    "smgr.swarm_picked.sum(axis=1).plot(label='Picked swarm equity');\n",
    "(smgr.swarm_avg).plot(label='Average swarm equity');\n",
    "legend(loc=2);\n"
   ]
  },
  {
   "cell_type": "code",
   "execution_count": null,
   "metadata": {
    "collapsed": false
   },
   "outputs": [],
   "source": [
    "smgr.swarm_picked.plot(legend=False)"
   ]
  },
  {
   "cell_type": "code",
   "execution_count": null,
   "metadata": {
    "collapsed": false
   },
   "outputs": [],
   "source": [
    "smgr.swarm.plot(legend=False)"
   ]
  },
  {
   "cell_type": "markdown",
   "metadata": {},
   "source": [
    "## Exo information"
   ]
  },
  {
   "cell_type": "code",
   "execution_count": null,
   "metadata": {
    "collapsed": false
   },
   "outputs": [],
   "source": [
    "smgr.strategy.exoinfo.exo_info"
   ]
  },
  {
   "cell_type": "code",
   "execution_count": null,
   "metadata": {
    "collapsed": false
   },
   "outputs": [],
   "source": [
    "smgr.strategy.exoinfo.data.exo.plot()"
   ]
  },
  {
   "cell_type": "markdown",
   "metadata": {},
   "source": [
    "### Global filter information"
   ]
  },
  {
   "cell_type": "code",
   "execution_count": null,
   "metadata": {
    "collapsed": false
   },
   "outputs": [],
   "source": [
    "title(smgr.strategy.global_filter_data['name'])\n",
    "smgr.swarm_picked.sum(axis=1).plot(label='Picked swarm equity with filter')\n",
    "smgr.strategy.global_filter_data['input_equity'].plot(label='Picked swarm equity without filter (input)')\n",
    "smgr.strategy.global_filter_data['values'].plot(secondary_y=True, label='Global filter')\n",
    "\n",
    "legend(loc=2);"
   ]
  },
  {
   "cell_type": "code",
   "execution_count": null,
   "metadata": {
    "collapsed": false
   },
   "outputs": [],
   "source": [
    "smgr.strategy.global_filter.plot.area()"
   ]
  },
  {
   "cell_type": "markdown",
   "metadata": {},
   "source": [
    "## Costs information (per 1-exo unit)"
   ]
  },
  {
   "cell_type": "code",
   "execution_count": null,
   "metadata": {
    "collapsed": false
   },
   "outputs": [],
   "source": [
    "figsize(10,5)\n",
    "smgr.strategy.costs.plot()"
   ]
  },
  {
   "cell_type": "markdown",
   "metadata": {
    "collapsed": true
   },
   "source": [
    "## Margin graphs"
   ]
  },
  {
   "cell_type": "markdown",
   "metadata": {},
   "source": [
    "### EXO Margin (per 1 EXO unit)"
   ]
  },
  {
   "cell_type": "code",
   "execution_count": null,
   "metadata": {
    "collapsed": false
   },
   "outputs": [],
   "source": [
    "smgr.strategy.exoinfo.margin().plot()"
   ]
  },
  {
   "cell_type": "markdown",
   "metadata": {},
   "source": [
    "### Average swarm margin"
   ]
  },
  {
   "cell_type": "code",
   "execution_count": null,
   "metadata": {
    "collapsed": false
   },
   "outputs": [],
   "source": [
    "(smgr.swarm_picked_margin).rolling(30).mean().plot()"
   ]
  },
  {
   "cell_type": "code",
   "execution_count": null,
   "metadata": {
    "collapsed": true
   },
   "outputs": [],
   "source": []
  }
 ],
 "metadata": {
  "kernelspec": {
   "display_name": "Python 3",
   "language": "python",
   "name": "python3"
  },
  "language_info": {
   "codemirror_mode": {
    "name": "ipython",
    "version": 3
   },
   "file_extension": ".py",
   "mimetype": "text/x-python",
   "name": "python",
   "nbconvert_exporter": "python",
   "pygments_lexer": "ipython3",
   "version": "3.5.1"
  }
 },
 "nbformat": 4,
 "nbformat_minor": 0
}
