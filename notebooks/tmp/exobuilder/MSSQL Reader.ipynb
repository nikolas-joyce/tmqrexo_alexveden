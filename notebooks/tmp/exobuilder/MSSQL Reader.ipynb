{
 "cells": [
  {
   "cell_type": "code",
   "execution_count": 1,
   "metadata": {
    "collapsed": false
   },
   "outputs": [],
   "source": [
    "import pymssql\n",
    "import _mssql\n",
    "import datetime\n",
    "from decimal import Decimal"
   ]
  },
  {
   "cell_type": "code",
   "execution_count": 2,
   "metadata": {
    "collapsed": false
   },
   "outputs": [
    {
     "data": {
      "text/plain": [
       "'2.2.0'"
      ]
     },
     "execution_count": 2,
     "metadata": {},
     "output_type": "execute_result"
    }
   ],
   "source": [
    "pymssql.__version__"
   ]
  },
  {
   "cell_type": "code",
   "execution_count": 3,
   "metadata": {
    "collapsed": true
   },
   "outputs": [],
   "source": [
    "server = 'h9ggwlagd1.database.windows.net'\n",
    "user = 'modelread'\n",
    "password = '4fSHRXwd4u'"
   ]
  },
  {
   "cell_type": "code",
   "execution_count": 4,
   "metadata": {
    "collapsed": true
   },
   "outputs": [],
   "source": [
    "import pymongo\n",
    "from pymongo import MongoClient\n",
    "client = MongoClient('mongodb://localhost:27017/')\n",
    "db = client['tmldb']"
   ]
  },
  {
   "cell_type": "code",
   "execution_count": 5,
   "metadata": {
    "collapsed": false
   },
   "outputs": [],
   "source": [
    "def convert_dates(values):\n",
    "    k,v = values\n",
    "    if type(v) == datetime.date:\n",
    "        return k, datetime.datetime.combine(\n",
    "                v,\n",
    "                datetime.datetime.min.time())\n",
    "    if type(v) == Decimal:\n",
    "        return k, float(v)\n",
    "    else:\n",
    "        return k, v\n",
    "    \n",
    "d = {'a': datetime.date.min, 'b': 'adadad'}"
   ]
  },
  {
   "cell_type": "code",
   "execution_count": 6,
   "metadata": {
    "collapsed": false
   },
   "outputs": [],
   "source": [
    "conn = pymssql.connect(server, user+\"@\"+server, password, \"TMLDB\")"
   ]
  },
  {
   "cell_type": "code",
   "execution_count": 8,
   "metadata": {
    "collapsed": false
   },
   "outputs": [],
   "source": [
    "c2 = conn.cursor(as_dict=True)"
   ]
  },
  {
   "cell_type": "code",
   "execution_count": 15,
   "metadata": {
    "collapsed": false
   },
   "outputs": [],
   "source": [
    "colname = 'contracts'\n",
    "c2.execute('SELECT * FROM cqgdb.tbl'+colname)"
   ]
  },
  {
   "cell_type": "code",
   "execution_count": 16,
   "metadata": {
    "collapsed": true
   },
   "outputs": [],
   "source": [
    "collection = db[colname]"
   ]
  },
  {
   "cell_type": "code",
   "execution_count": 17,
   "metadata": {
    "collapsed": false
   },
   "outputs": [
    {
     "name": "stdout",
     "output_type": "stream",
     "text": [
      "Done 6050 rows\n"
     ]
    }
   ],
   "source": [
    "cnt = 0\n",
    "for row in c2:\n",
    "    try:\n",
    "        data = dict(map(convert_dates, row.items()))\n",
    "        collection.insert_one(data)    \n",
    "        cnt += 1\n",
    "    except TypeError:\n",
    "        print('TypeError')\n",
    "        print(row)\n",
    "        break\n",
    "\n",
    "print('Done {0} rows'.format(cnt))\n"
   ]
  },
  {
   "cell_type": "code",
   "execution_count": 11,
   "metadata": {
    "collapsed": false
   },
   "outputs": [
    {
     "data": {
      "text/plain": [
       "'3.2.2'"
      ]
     },
     "execution_count": 11,
     "metadata": {},
     "output_type": "execute_result"
    }
   ],
   "source": [
    "pymongo.__version__"
   ]
  },
  {
   "cell_type": "code",
   "execution_count": null,
   "metadata": {
    "collapsed": false
   },
   "outputs": [],
   "source": [
    "c2.rowcount"
   ]
  },
  {
   "cell_type": "code",
   "execution_count": 18,
   "metadata": {
    "collapsed": false
   },
   "outputs": [],
   "source": [
    "import sys\n",
    "sys.path.append('/home/ubertrader/Dropbox/tmqrexo/tmqrv')\n",
    "sys.path.append('/home/ubertrader/Dropbox/tmqrexo/tmqrv/exobuilder/tests')"
   ]
  },
  {
   "cell_type": "code",
   "execution_count": 22,
   "metadata": {
    "collapsed": false
   },
   "outputs": [],
   "source": [
    "from exobuilder.contracts.futureschain import FuturesChain\n",
    "from exobuilder.contracts.futurecontract import FutureContract\n",
    "from exobuilder.tests.assetindexdict import AssetIndexDicts\n",
    "from datetime import datetime, date\n",
    "from exobuilder.contracts.instrument import Instrument\n",
    "from exobuilder.data.datasource_mongo import DataSourceMongo\n",
    "from exobuilder.data.assetindex_mongo import AssetIndexMongo"
   ]
  },
  {
   "cell_type": "code",
   "execution_count": 21,
   "metadata": {
    "collapsed": false
   },
   "outputs": [
    {
     "ename": "AttributeError",
     "evalue": "'AssetIndexDicts' object has no attribute 'assetindex'",
     "output_type": "error",
     "traceback": [
      "\u001b[1;31m---------------------------------------------------------------------------\u001b[0m",
      "\u001b[1;31mAttributeError\u001b[0m                            Traceback (most recent call last)",
      "\u001b[1;32m<ipython-input-21-1f5624113deb>\u001b[0m in \u001b[0;36m<module>\u001b[1;34m()\u001b[0m\n\u001b[0;32m      4\u001b[0m \u001b[0mfutures_limit\u001b[0m \u001b[1;33m=\u001b[0m \u001b[1;36m3\u001b[0m\u001b[1;33m\u001b[0m\u001b[0m\n\u001b[0;32m      5\u001b[0m \u001b[0minstrument\u001b[0m \u001b[1;33m=\u001b[0m \u001b[0mInstrument\u001b[0m\u001b[1;33m(\u001b[0m\u001b[0massetindex\u001b[0m\u001b[1;33m,\u001b[0m \u001b[0msymbol\u001b[0m\u001b[1;33m,\u001b[0m \u001b[0mdate\u001b[0m\u001b[1;33m,\u001b[0m \u001b[0mfutures_limit\u001b[0m\u001b[1;33m,\u001b[0m \u001b[0moptions_limit\u001b[0m\u001b[1;33m=\u001b[0m\u001b[1;36m10\u001b[0m\u001b[1;33m)\u001b[0m\u001b[1;33m\u001b[0m\u001b[0m\n\u001b[1;32m----> 6\u001b[1;33m \u001b[0mfut_chain\u001b[0m \u001b[1;33m=\u001b[0m \u001b[0mFuturesChain\u001b[0m\u001b[1;33m(\u001b[0m\u001b[0minstrument\u001b[0m\u001b[1;33m)\u001b[0m\u001b[1;33m\u001b[0m\u001b[0m\n\u001b[0m",
      "\u001b[1;32m/home/ubertrader/Dropbox/tmqrexo/tmqrv/exobuilder/contracts/futureschain.py\u001b[0m in \u001b[0;36m__init__\u001b[1;34m(self, instrument)\u001b[0m\n\u001b[0;32m      9\u001b[0m         \"\"\"\n\u001b[0;32m     10\u001b[0m         \u001b[0mself\u001b[0m\u001b[1;33m.\u001b[0m\u001b[0minstrument\u001b[0m \u001b[1;33m=\u001b[0m \u001b[0minstrument\u001b[0m\u001b[1;33m\u001b[0m\u001b[0m\n\u001b[1;32m---> 11\u001b[1;33m         \u001b[0mself\u001b[0m\u001b[1;33m.\u001b[0m\u001b[0m_data\u001b[0m \u001b[1;33m=\u001b[0m \u001b[0mself\u001b[0m\u001b[1;33m.\u001b[0m\u001b[0minstrument\u001b[0m\u001b[1;33m.\u001b[0m\u001b[0massetindex\u001b[0m\u001b[1;33m.\u001b[0m\u001b[0mget_futures_list\u001b[0m\u001b[1;33m(\u001b[0m\u001b[0mself\u001b[0m\u001b[1;33m.\u001b[0m\u001b[0minstrument\u001b[0m\u001b[1;33m.\u001b[0m\u001b[0mdate\u001b[0m\u001b[1;33m,\u001b[0m \u001b[0mself\u001b[0m\u001b[1;33m.\u001b[0m\u001b[0minstrument\u001b[0m\u001b[1;33m,\u001b[0m \u001b[0mself\u001b[0m\u001b[1;33m.\u001b[0m\u001b[0minstrument\u001b[0m\u001b[1;33m.\u001b[0m\u001b[0mfutures_limit\u001b[0m\u001b[1;33m)\u001b[0m\u001b[1;33m\u001b[0m\u001b[0m\n\u001b[0m\u001b[0;32m     12\u001b[0m         \u001b[0mself\u001b[0m\u001b[1;33m.\u001b[0m\u001b[0mcontracts\u001b[0m \u001b[1;33m=\u001b[0m \u001b[1;33m[\u001b[0m\u001b[1;33m]\u001b[0m\u001b[1;33m\u001b[0m\u001b[0m\n\u001b[0;32m     13\u001b[0m         \u001b[1;32mfor\u001b[0m \u001b[0mf\u001b[0m \u001b[1;32min\u001b[0m \u001b[0mself\u001b[0m\u001b[1;33m.\u001b[0m\u001b[0m_data\u001b[0m\u001b[1;33m:\u001b[0m\u001b[1;33m\u001b[0m\u001b[0m\n",
      "\u001b[1;32m/home/ubertrader/Dropbox/tmqrexo/tmqrv/exobuilder/contracts/instrument.py\u001b[0m in \u001b[0;36massetindex\u001b[1;34m(self)\u001b[0m\n\u001b[0;32m     24\u001b[0m     \u001b[1;33m@\u001b[0m\u001b[0mproperty\u001b[0m\u001b[1;33m\u001b[0m\u001b[0m\n\u001b[0;32m     25\u001b[0m     \u001b[1;32mdef\u001b[0m \u001b[0massetindex\u001b[0m\u001b[1;33m(\u001b[0m\u001b[0mself\u001b[0m\u001b[1;33m)\u001b[0m\u001b[1;33m:\u001b[0m\u001b[1;33m\u001b[0m\u001b[0m\n\u001b[1;32m---> 26\u001b[1;33m         \u001b[1;32mreturn\u001b[0m \u001b[0mself\u001b[0m\u001b[1;33m.\u001b[0m\u001b[0mdatasource\u001b[0m\u001b[1;33m.\u001b[0m\u001b[0massetindex\u001b[0m\u001b[1;33m\u001b[0m\u001b[0m\n\u001b[0m\u001b[0;32m     27\u001b[0m \u001b[1;33m\u001b[0m\u001b[0m\n\u001b[0;32m     28\u001b[0m     \u001b[1;33m@\u001b[0m\u001b[0mproperty\u001b[0m\u001b[1;33m\u001b[0m\u001b[0m\n",
      "\u001b[1;31mAttributeError\u001b[0m: 'AssetIndexDicts' object has no attribute 'assetindex'"
     ]
    }
   ],
   "source": [
    "assetindex = AssetIndexDicts()\n",
    "symbol = 'EP'\n",
    "date = datetime(2014, 1, 6, 10, 15, 0)\n",
    "futures_limit = 3\n",
    "instrument = Instrument(assetindex, symbol, date, futures_limit, options_limit=10)\n",
    "fut_chain = FuturesChain(instrument)"
   ]
  },
  {
   "cell_type": "code",
   "execution_count": 23,
   "metadata": {
    "collapsed": true
   },
   "outputs": [],
   "source": [
    "mongo_connstr = 'mongodb://localhost:27017/'\n",
    "mongo_db_name = 'tmldb'\n",
    "assetindex = AssetIndexMongo(mongo_connstr, mongo_db_name)\n",
    "date = datetime(2014, 1, 6, 10, 15, 0)\n",
    "futures_limit = 3\n",
    "options_limit = 10\n",
    "\n",
    "datasource = DataSourceMongo(mongo_connstr, mongo_db_name, assetindex, date, futures_limit, options_limit)"
   ]
  },
  {
   "cell_type": "code",
   "execution_count": 24,
   "metadata": {
    "collapsed": false
   },
   "outputs": [],
   "source": [
    "fut_id = datasource['ES'].futures[0].dbid"
   ]
  },
  {
   "cell_type": "code",
   "execution_count": 25,
   "metadata": {
    "collapsed": false
   },
   "outputs": [
    {
     "name": "stdout",
     "output_type": "stream",
     "text": [
      "Done 116046 rows\n"
     ]
    }
   ],
   "source": [
    "c2 = conn.cursor(as_dict=True)\n",
    "c2.execute(\"SELECT * FROM cqgdb.tblbardata where idcontract = '{0}'\".format(fut_id))\n",
    "collection = db['futures_data']\n",
    "\n",
    "cnt = 0\n",
    "for row in c2:\n",
    "    try:\n",
    "        data = dict(map(convert_dates, row.items()))\n",
    "        collection.insert_one(data)    \n",
    "        cnt += 1\n",
    "    except TypeError:\n",
    "        print('TypeError')\n",
    "        print(row)\n",
    "        break\n",
    "\n",
    "print('Done {0} rows'.format(cnt))"
   ]
  },
  {
   "cell_type": "code",
   "execution_count": 11,
   "metadata": {
    "collapsed": false
   },
   "outputs": [],
   "source": [
    "# Real price on (\"2014-01-06 10:15:00\")\n",
    "instrument.futures[0]._price = 1819.5"
   ]
  },
  {
   "cell_type": "code",
   "execution_count": 26,
   "metadata": {
    "collapsed": false
   },
   "outputs": [],
   "source": [
    "opt_chain = datasource['ES'].futures[0].options[0]"
   ]
  },
  {
   "cell_type": "code",
   "execution_count": 27,
   "metadata": {
    "collapsed": false
   },
   "outputs": [],
   "source": [
    "options_dbids = []\n",
    "for optpair in opt_chain:\n",
    "    options_dbids.append(optpair.C.dbid)\n",
    "    options_dbids.append(optpair.P.dbid)"
   ]
  },
  {
   "cell_type": "code",
   "execution_count": 28,
   "metadata": {
    "collapsed": false
   },
   "outputs": [
    {
     "data": {
      "text/plain": [
       "(11488838, 11489000)"
      ]
     },
     "execution_count": 28,
     "metadata": {},
     "output_type": "execute_result"
    }
   ],
   "source": [
    "tuple(options_dbids[0:2])"
   ]
  },
  {
   "cell_type": "code",
   "execution_count": null,
   "metadata": {
    "collapsed": false
   },
   "outputs": [],
   "source": [
    "c2 = conn.cursor(as_dict=True)\n",
    "query = \"SELECT * FROM cqgdb.tbloptiondata where idoption in {0}\".format(tuple(options_dbids))\n",
    "print(query)\n",
    "c2.execute(query)\n",
    "collection = db['options_data']\n",
    "\n",
    "cnt = 0\n",
    "for row in c2:\n",
    "    try:\n",
    "        data = dict(map(convert_dates, row.items()))\n",
    "        collection.insert_one(data)    \n",
    "        cnt += 1\n",
    "    except TypeError:\n",
    "        print('TypeError')\n",
    "        print(row)\n",
    "        break\n",
    "\n",
    "print('Done {0} rows'.format(cnt))"
   ]
  },
  {
   "cell_type": "code",
   "execution_count": 31,
   "metadata": {
    "collapsed": false
   },
   "outputs": [
    {
     "data": {
      "text/plain": [
       "{'idoptioninputdata': 1116016,\n",
       " 'idoptioninputsymbol': 15,\n",
       " 'optioninputclose': 0.81,\n",
       " 'optioninputdatetime': datetime.datetime(2016, 7, 21, 0, 0),\n",
       " 'optioninputhigh': 0.775,\n",
       " 'optioninputlow': 0.815,\n",
       " 'optioninputopen': 0.785}"
      ]
     },
     "execution_count": 31,
     "metadata": {},
     "output_type": "execute_result"
    }
   ],
   "source": [
    "row"
   ]
  },
  {
   "cell_type": "markdown",
   "metadata": {
    "collapsed": true
   },
   "source": [
    "## RFR"
   ]
  },
  {
   "cell_type": "code",
   "execution_count": 30,
   "metadata": {
    "collapsed": false
   },
   "outputs": [
    {
     "name": "stdout",
     "output_type": "stream",
     "text": [
      "SELECT * FROM cqgdb.tbloptioninputdata\n",
      "Done 3086 rows\n"
     ]
    }
   ],
   "source": [
    "c2 = conn.cursor(as_dict=True)\n",
    "query = \"SELECT * FROM cqgdb.tbloptioninputdata\"\n",
    "print(query)\n",
    "c2.execute(query)\n",
    "\n",
    "collection = db['options_data_inputs']\n",
    "\n",
    "cnt = 0\n",
    "for row in c2:\n",
    "    try:\n",
    "        data = dict(map(convert_dates, row.items()))\n",
    "        collection.insert_one(data)    \n",
    "        cnt += 1\n",
    "    except TypeError:\n",
    "        print('TypeError')\n",
    "        print(row)\n",
    "        break\n",
    "print('Done {0} rows'.format(cnt))"
   ]
  },
  {
   "cell_type": "code",
   "execution_count": 1,
   "metadata": {
    "collapsed": true
   },
   "outputs": [],
   "source": [
    "from notebook.auth import passwd"
   ]
  },
  {
   "cell_type": "code",
   "execution_count": 2,
   "metadata": {
    "collapsed": false
   },
   "outputs": [
    {
     "name": "stdout",
     "output_type": "stream",
     "text": [
      "Enter password: ········\n",
      "Verify password: ········\n"
     ]
    },
    {
     "data": {
      "text/plain": [
       "'sha1:6a3647e6f696:9abcbf34f0f0943b79fde23ea33d6ae7fa43b1ac'"
      ]
     },
     "execution_count": 2,
     "metadata": {},
     "output_type": "execute_result"
    }
   ],
   "source": [
    "passwd()"
   ]
  },
  {
   "cell_type": "code",
   "execution_count": null,
   "metadata": {
    "collapsed": true
   },
   "outputs": [],
   "source": []
  }
 ],
 "metadata": {
  "anaconda-cloud": {},
  "kernelspec": {
   "display_name": "Python [Root]",
   "language": "python",
   "name": "Python [Root]"
  },
  "language_info": {
   "codemirror_mode": {
    "name": "ipython",
    "version": 3
   },
   "file_extension": ".py",
   "mimetype": "text/x-python",
   "name": "python",
   "nbconvert_exporter": "python",
   "pygments_lexer": "ipython3",
   "version": "3.5.2"
  }
 },
 "nbformat": 4,
 "nbformat_minor": 0
}
