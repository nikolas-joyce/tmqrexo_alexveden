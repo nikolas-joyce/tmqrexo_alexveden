{
 "cells": [
  {
   "cell_type": "code",
   "execution_count": 1,
   "metadata": {
    "collapsed": false
   },
   "outputs": [],
   "source": [
    "import pymssql\n",
    "import _mssql\n",
    "import datetime\n",
    "from decimal import Decimal"
   ]
  },
  {
   "cell_type": "code",
   "execution_count": 2,
   "metadata": {
    "collapsed": false
   },
   "outputs": [
    {
     "data": {
      "text/plain": [
       "'2.2.0'"
      ]
     },
     "execution_count": 2,
     "metadata": {},
     "output_type": "execute_result"
    }
   ],
   "source": [
    "pymssql.__version__"
   ]
  },
  {
   "cell_type": "code",
   "execution_count": 3,
   "metadata": {
    "collapsed": true
   },
   "outputs": [],
   "source": [
    "server = 'h9ggwlagd1.database.windows.net'\n",
    "user = 'steve'\n",
    "password = 'KYYAtv9P'"
   ]
  },
  {
   "cell_type": "code",
   "execution_count": 4,
   "metadata": {
    "collapsed": true
   },
   "outputs": [],
   "source": [
    "import pymongo\n",
    "from pymongo import MongoClient\n",
    "client = MongoClient('mongodb://localhost:27017/')\n",
    "db = client['tmldb']"
   ]
  },
  {
   "cell_type": "code",
   "execution_count": 5,
   "metadata": {
    "collapsed": false
   },
   "outputs": [],
   "source": [
    "def convert_dates(values):\n",
    "    k,v = values\n",
    "    if type(v) == datetime.date:\n",
    "        return k, datetime.datetime.combine(\n",
    "                v,\n",
    "                datetime.datetime.min.time())\n",
    "    if type(v) == Decimal:\n",
    "        return k, float(v)\n",
    "    else:\n",
    "        return k, v\n",
    "    \n",
    "d = {'a': datetime.date.min, 'b': 'adadad'}"
   ]
  },
  {
   "cell_type": "code",
   "execution_count": 6,
   "metadata": {
    "collapsed": false
   },
   "outputs": [],
   "source": [
    "conn = pymssql.connect(server, user+\"@\"+server, password, \"TMLDB\")"
   ]
  },
  {
   "cell_type": "code",
   "execution_count": 31,
   "metadata": {
    "collapsed": false
   },
   "outputs": [],
   "source": [
    "c2 = conn.cursor(as_dict=True)"
   ]
  },
  {
   "cell_type": "code",
   "execution_count": 32,
   "metadata": {
    "collapsed": false
   },
   "outputs": [],
   "source": [
    "colname = 'options'\n",
    "c2.execute('SELECT * FROM cqgdb.tbl'+colname)"
   ]
  },
  {
   "cell_type": "code",
   "execution_count": 33,
   "metadata": {
    "collapsed": true
   },
   "outputs": [],
   "source": [
    "collection = db[colname]"
   ]
  },
  {
   "cell_type": "code",
   "execution_count": 42,
   "metadata": {
    "collapsed": false
   },
   "outputs": [
    {
     "name": "stdout",
     "output_type": "stream",
     "text": [
      "Done 547474 rows\n"
     ]
    }
   ],
   "source": [
    "cnt = 0\n",
    "for row in c2:\n",
    "    try:\n",
    "        data = dict(map(convert_dates, row.items()))\n",
    "        collection.insert_one(data)    \n",
    "        cnt += 1\n",
    "    except TypeError:\n",
    "        print('TypeError')\n",
    "        print(row)\n",
    "        break\n",
    "\n",
    "print('Done {0} rows'.format(cnt))\n"
   ]
  },
  {
   "cell_type": "code",
   "execution_count": 11,
   "metadata": {
    "collapsed": false
   },
   "outputs": [
    {
     "data": {
      "text/plain": [
       "'3.2.2'"
      ]
     },
     "execution_count": 11,
     "metadata": {},
     "output_type": "execute_result"
    }
   ],
   "source": [
    "pymongo.__version__"
   ]
  },
  {
   "cell_type": "code",
   "execution_count": null,
   "metadata": {
    "collapsed": false
   },
   "outputs": [],
   "source": [
    "c2.rowcount"
   ]
  },
  {
   "cell_type": "code",
   "execution_count": 7,
   "metadata": {
    "collapsed": false
   },
   "outputs": [],
   "source": [
    "import sys\n",
    "sys.path.append('/home/ubertrader/Dropbox/tmqrexo/tmqrv')\n",
    "sys.path.append('/home/ubertrader/Dropbox/tmqrexo/tmqrv/exobuilder/tests')"
   ]
  },
  {
   "cell_type": "code",
   "execution_count": 8,
   "metadata": {
    "collapsed": false
   },
   "outputs": [],
   "source": [
    "from exobuilder.contracts.futureschain import FuturesChain\n",
    "from exobuilder.contracts.futurecontract import FutureContract\n",
    "from exobuilder.tests.assetindexdict import AssetIndexDicts\n",
    "from datetime import datetime, date\n",
    "from exobuilder.contracts.instrument import Instrument"
   ]
  },
  {
   "cell_type": "code",
   "execution_count": 9,
   "metadata": {
    "collapsed": false
   },
   "outputs": [],
   "source": [
    "assetindex = AssetIndexDicts()\n",
    "symbol = 'EP'\n",
    "date = datetime(2014, 1, 6, 10, 15, 0)\n",
    "futures_limit = 3\n",
    "instrument = Instrument(assetindex, symbol, date, futures_limit, options_limit=10)\n",
    "fut_chain = FuturesChain(instrument)"
   ]
  },
  {
   "cell_type": "code",
   "execution_count": 10,
   "metadata": {
    "collapsed": false
   },
   "outputs": [],
   "source": [
    "fut_id = instrument.futures[0].dbid"
   ]
  },
  {
   "cell_type": "code",
   "execution_count": 30,
   "metadata": {
    "collapsed": false
   },
   "outputs": [
    {
     "name": "stdout",
     "output_type": "stream",
     "text": [
      "Done 232092 rows\n"
     ]
    }
   ],
   "source": [
    "c2 = conn.cursor(as_dict=True)\n",
    "c2.execute(\"SELECT * FROM cqgdb.tblbardata where idcontract = '{0}'\".format(fut_id))\n",
    "collection = db['futures_data']\n",
    "\n",
    "cnt = 0\n",
    "for row in c2:\n",
    "    try:\n",
    "        data = dict(map(convert_dates, row.items()))\n",
    "        collection.insert_one(data)    \n",
    "        cnt += 1\n",
    "    except TypeError:\n",
    "        print('TypeError')\n",
    "        print(row)\n",
    "        break\n",
    "\n",
    "print('Done {0} rows'.format(cnt))"
   ]
  },
  {
   "cell_type": "code",
   "execution_count": 11,
   "metadata": {
    "collapsed": false
   },
   "outputs": [],
   "source": [
    "# Real price on (\"2014-01-06 10:15:00\")\n",
    "instrument.futures[0]._price = 1819.5"
   ]
  },
  {
   "cell_type": "code",
   "execution_count": 12,
   "metadata": {
    "collapsed": false
   },
   "outputs": [],
   "source": [
    "opt_chain = instrument.futures[0].options[0]"
   ]
  },
  {
   "cell_type": "code",
   "execution_count": 17,
   "metadata": {
    "collapsed": false
   },
   "outputs": [],
   "source": [
    "options_dbids = []\n",
    "for optpair in opt_chain:\n",
    "    options_dbids.append(optpair.C.dbid)\n",
    "    options_dbids.append(optpair.P.dbid)"
   ]
  },
  {
   "cell_type": "code",
   "execution_count": 23,
   "metadata": {
    "collapsed": false
   },
   "outputs": [
    {
     "data": {
      "text/plain": [
       "(11488838, 11489000)"
      ]
     },
     "execution_count": 23,
     "metadata": {},
     "output_type": "execute_result"
    }
   ],
   "source": [
    "tuple(options_dbids[0:2])"
   ]
  },
  {
   "cell_type": "code",
   "execution_count": 28,
   "metadata": {
    "collapsed": false
   },
   "outputs": [
    {
     "name": "stdout",
     "output_type": "stream",
     "text": [
      "SELECT * FROM cqgdb.tbloptiondata where idoption in (11488838, 11489000, 11488839, 11489001, 11488840, 11489002, 11500637, 11500722, 11488841, 11489003, 11500638, 11500723, 11488842, 11489004, 11500639, 11500724, 11488843, 11489005, 11500640, 11500725, 11488844, 11489006, 11488845, 11489007, 11488846, 11489008, 11500641, 11500726, 11488847, 11489009, 11500642, 11500727, 11488848, 11489010, 11500643, 11500728, 11488849, 11489011, 11500644, 11500729, 11488850, 11489012)\n",
      "Done 4320 rows\n"
     ]
    }
   ],
   "source": [
    "c2 = conn.cursor(as_dict=True)\n",
    "query = \"SELECT * FROM cqgdb.tbloptiondata where idoption in {0}\".format(tuple(options_dbids))\n",
    "print(query)\n",
    "c2.execute(query)\n",
    "collection = db['options_data']\n",
    "\n",
    "cnt = 0\n",
    "for row in c2:\n",
    "    try:\n",
    "        data = dict(map(convert_dates, row.items()))\n",
    "        collection.insert_one(data)    \n",
    "        cnt += 1\n",
    "    except TypeError:\n",
    "        print('TypeError')\n",
    "        print(row)\n",
    "        break\n",
    "\n",
    "print('Done {0} rows'.format(cnt))"
   ]
  },
  {
   "cell_type": "code",
   "execution_count": null,
   "metadata": {
    "collapsed": true
   },
   "outputs": [],
   "source": []
  }
 ],
 "metadata": {
  "kernelspec": {
   "display_name": "Python 3",
   "language": "python",
   "name": "python3"
  },
  "language_info": {
   "codemirror_mode": {
    "name": "ipython",
    "version": 3
   },
   "file_extension": ".py",
   "mimetype": "text/x-python",
   "name": "python",
   "nbconvert_exporter": "python",
   "pygments_lexer": "ipython3",
   "version": "3.5.1"
  }
 },
 "nbformat": 4,
 "nbformat_minor": 0
}
