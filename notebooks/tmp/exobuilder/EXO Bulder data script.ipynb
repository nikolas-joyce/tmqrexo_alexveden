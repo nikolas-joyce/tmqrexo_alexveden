{
 "cells": [
  {
   "cell_type": "code",
   "execution_count": 1,
   "metadata": {
    "collapsed": true
   },
   "outputs": [],
   "source": [
    "from datetime import datetime"
   ]
  },
  {
   "cell_type": "code",
   "execution_count": 2,
   "metadata": {
    "collapsed": false
   },
   "outputs": [],
   "source": [
    "%load_ext autoreload\n",
    "%autoreload 2"
   ]
  },
  {
   "cell_type": "code",
   "execution_count": 3,
   "metadata": {
    "collapsed": true
   },
   "outputs": [],
   "source": [
    "import sys\n",
    "sys.path.append('/home/ubertrader/Dropbox/tmqrexo/tmqrv')\n",
    "sys.path.append('/home/ubertrader/Dropbox/tmqrexo/tmqrv/exobuilder/tests')"
   ]
  },
  {
   "cell_type": "code",
   "execution_count": 4,
   "metadata": {
    "collapsed": false
   },
   "outputs": [],
   "source": [
    "from exobuilder.contracts.futureschain import FuturesChain\n",
    "from exobuilder.contracts.futurecontract import FutureContract\n",
    "from exobuilder.tests.assetindexdict import AssetIndexDicts\n",
    "from datetime import datetime, date\n",
    "from exobuilder.contracts.instrument import Instrument\n",
    "from exobuilder.data.datasource_mongo import DataSourceMongo\n",
    "from exobuilder.data.assetindex_mongo import AssetIndexMongo"
   ]
  },
  {
   "cell_type": "markdown",
   "metadata": {},
   "source": [
    "## Initializing the data source"
   ]
  },
  {
   "cell_type": "code",
   "execution_count": 5,
   "metadata": {
    "collapsed": false
   },
   "outputs": [],
   "source": [
    "mongo_connstr = 'mongodb://localhost:27017/'\n",
    "mongo_db_name = 'tmldb'\n",
    "assetindex = AssetIndexMongo(mongo_connstr, mongo_db_name)\n",
    "date = datetime(2014, 1, 6, 10, 15, 0)\n",
    "futures_limit = 3\n",
    "options_limit = 10\n",
    "\n",
    "datasource = DataSourceMongo(mongo_connstr, mongo_db_name, assetindex, date, futures_limit, options_limit)"
   ]
  },
  {
   "cell_type": "markdown",
   "metadata": {},
   "source": [
    "### Get instrument object"
   ]
  },
  {
   "cell_type": "code",
   "execution_count": 6,
   "metadata": {
    "collapsed": false
   },
   "outputs": [],
   "source": [
    "instrument = datasource['ES']"
   ]
  },
  {
   "cell_type": "markdown",
   "metadata": {},
   "source": [
    "### Get futures chains (expirations)"
   ]
  },
  {
   "cell_type": "code",
   "execution_count": 7,
   "metadata": {
    "collapsed": false
   },
   "outputs": [
    {
     "data": {
      "text/plain": [
       "4738"
      ]
     },
     "execution_count": 7,
     "metadata": {},
     "output_type": "execute_result"
    }
   ],
   "source": [
    "instrument.futures[1].dbid"
   ]
  },
  {
   "cell_type": "markdown",
   "metadata": {},
   "source": [
    "### Select front month"
   ]
  },
  {
   "cell_type": "code",
   "execution_count": 8,
   "metadata": {
    "collapsed": false
   },
   "outputs": [],
   "source": [
    "instrument.futures[0]._price_data"
   ]
  },
  {
   "cell_type": "markdown",
   "metadata": {},
   "source": [
    "#### Get future close price"
   ]
  },
  {
   "cell_type": "code",
   "execution_count": 9,
   "metadata": {
    "collapsed": false
   },
   "outputs": [
    {
     "data": {
      "text/plain": [
       "1819.5"
      ]
     },
     "execution_count": 9,
     "metadata": {},
     "output_type": "execute_result"
    }
   ],
   "source": [
    "instrument.futures[0].price"
   ]
  },
  {
   "cell_type": "markdown",
   "metadata": {},
   "source": [
    "### Get options expirations for the front month"
   ]
  },
  {
   "cell_type": "code",
   "execution_count": 10,
   "metadata": {
    "collapsed": false
   },
   "outputs": [
    {
     "data": {
      "text/plain": [
       "0: 2014-01-17\n",
       "1: 2014-02-21\n",
       "2: 2014-03-21"
      ]
     },
     "execution_count": 10,
     "metadata": {},
     "output_type": "execute_result"
    }
   ],
   "source": [
    "instrument.futures[0].options"
   ]
  },
  {
   "cell_type": "markdown",
   "metadata": {},
   "source": [
    "### Get the option chain for recent month"
   ]
  },
  {
   "cell_type": "code",
   "execution_count": 11,
   "metadata": {
    "collapsed": false
   },
   "outputs": [
    {
     "data": {
      "text/plain": [
       "-10: 1770.0 C.US.EPF1417700 / P.US.EPF1417700\n",
       "-9: 1775.0 C.US.EPF1417750 / P.US.EPF1417750\n",
       "-8: 1780.0 C.US.EPF1417800 / P.US.EPF1417800\n",
       "-7: 1785.0 C.US.EPF1417850 / P.US.EPF1417850\n",
       "-6: 1790.0 C.US.EPF1417900 / P.US.EPF1417900\n",
       "-5: 1795.0 C.US.EPF1417950 / P.US.EPF1417950\n",
       "-4: 1800.0 C.US.EPF1418000 / P.US.EPF1418000\n",
       "-3: 1805.0 C.US.EPF1418050 / P.US.EPF1418050\n",
       "-2: 1810.0 C.US.EPF1418100 / P.US.EPF1418100\n",
       "-1: 1815.0 C.US.EPF1418150 / P.US.EPF1418150\n",
       "0: 1820.0 C.US.EPF1418200 / P.US.EPF1418200\n",
       "1: 1825.0 C.US.EPF1418250 / P.US.EPF1418250\n",
       "2: 1830.0 C.US.EPF1418300 / P.US.EPF1418300\n",
       "3: 1835.0 C.US.EPF1418350 / P.US.EPF1418350\n",
       "4: 1840.0 C.US.EPF1418400 / P.US.EPF1418400\n",
       "5: 1845.0 C.US.EPF1418450 / P.US.EPF1418450\n",
       "6: 1850.0 C.US.EPF1418500 / P.US.EPF1418500\n",
       "7: 1855.0 C.US.EPF1418550 / P.US.EPF1418550\n",
       "8: 1860.0 C.US.EPF1418600 / P.US.EPF1418600\n",
       "9: 1865.0 C.US.EPF1418650 / P.US.EPF1418650\n",
       "10: 1870.0 C.US.EPF1418700 / P.US.EPF1418700"
      ]
     },
     "execution_count": 11,
     "metadata": {},
     "output_type": "execute_result"
    }
   ],
   "source": [
    "instrument.futures[0].options[0]"
   ]
  },
  {
   "cell_type": "code",
   "execution_count": 12,
   "metadata": {
    "collapsed": false
   },
   "outputs": [],
   "source": [
    "recent_chain = instrument.futures[0].options[0]"
   ]
  },
  {
   "cell_type": "markdown",
   "metadata": {},
   "source": [
    "#### Get ATM strike option pair"
   ]
  },
  {
   "cell_type": "code",
   "execution_count": 18,
   "metadata": {
    "collapsed": false
   },
   "outputs": [
    {
     "data": {
      "text/plain": [
       "0.1101"
      ]
     },
     "execution_count": 18,
     "metadata": {},
     "output_type": "execute_result"
    }
   ],
   "source": [
    "recent_chain[0].p.iv"
   ]
  },
  {
   "cell_type": "markdown",
   "metadata": {},
   "source": [
    "#### Get 2 strikes lower ATM option pair"
   ]
  },
  {
   "cell_type": "code",
   "execution_count": 14,
   "metadata": {
    "collapsed": false
   },
   "outputs": [
    {
     "data": {
      "text/plain": [
       "1810.0 C.US.EPF1418100 / P.US.EPF1418100"
      ]
     },
     "execution_count": 14,
     "metadata": {},
     "output_type": "execute_result"
    }
   ],
   "source": [
    "recent_chain[-2]"
   ]
  }
 ],
 "metadata": {
  "kernelspec": {
   "display_name": "Python 3",
   "language": "python",
   "name": "python3"
  },
  "language_info": {
   "codemirror_mode": {
    "name": "ipython",
    "version": 3
   },
   "file_extension": ".py",
   "mimetype": "text/x-python",
   "name": "python",
   "nbconvert_exporter": "python",
   "pygments_lexer": "ipython3",
   "version": "3.5.1"
  }
 },
 "nbformat": 4,
 "nbformat_minor": 0
}
