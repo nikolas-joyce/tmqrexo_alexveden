{
 "cells": [
  {
   "cell_type": "code",
   "execution_count": 48,
   "metadata": {
    "collapsed": true
   },
   "outputs": [],
   "source": [
    "import pandas as pd\n",
    "from datetime import datetime, timedelta\n",
    "import numpy as np"
   ]
  },
  {
   "cell_type": "code",
   "execution_count": 3,
   "metadata": {
    "collapsed": false
   },
   "outputs": [],
   "source": [
    "contracts = pd.DataFrame.from_csv(\"~/contracts.csv\")"
   ]
  },
  {
   "cell_type": "code",
   "execution_count": 9,
   "metadata": {
    "collapsed": false
   },
   "outputs": [
    {
     "data": {
      "text/plain": [
       "contractname      F.US.EPH11\n",
       "month                      H\n",
       "monthint                   3\n",
       "year                    2011\n",
       "idinstrument              11\n",
       "expirationdate    2011-03-18\n",
       "cqgsymbol            F.EPH11\n",
       "Name: 724, dtype: object"
      ]
     },
     "execution_count": 9,
     "metadata": {},
     "output_type": "execute_result"
    }
   ],
   "source": [
    "contracts.ix[724]"
   ]
  },
  {
   "cell_type": "code",
   "execution_count": 10,
   "metadata": {
    "collapsed": true
   },
   "outputs": [],
   "source": [
    "options = pd.DataFrame.from_csv(\"~/options.csv\")"
   ]
  },
  {
   "cell_type": "code",
   "execution_count": 12,
   "metadata": {
    "collapsed": false
   },
   "outputs": [
    {
     "data": {
      "text/plain": [
       "optionname        C.US.EPF1112650\n",
       "optionmonth                     F\n",
       "optionmonthint                  1\n",
       "optionyear                   2011\n",
       "strikeprice                  1265\n",
       "callorput                       C\n",
       "idinstrument                   11\n",
       "expirationdate         2011-01-21\n",
       "idcontract                    724\n",
       "cqgsymbol          C.US.EPF111265\n",
       "Name: 195035, dtype: object"
      ]
     },
     "execution_count": 12,
     "metadata": {},
     "output_type": "execute_result"
    }
   ],
   "source": [
    "options.ix[195035]"
   ]
  },
  {
   "cell_type": "code",
   "execution_count": 15,
   "metadata": {
    "collapsed": true
   },
   "outputs": [],
   "source": [
    "def convert_mat_date(matlab_datenum):\n",
    "    \"\"\"\n",
    "    Matlab to Python date convert helper function\n",
    "    \"\"\"\n",
    "    return datetime.fromordinal(int(matlab_datenum)) + timedelta(days=int(matlab_datenum%1)) - timedelta(days=366)"
   ]
  },
  {
   "cell_type": "code",
   "execution_count": 18,
   "metadata": {
    "collapsed": true
   },
   "outputs": [],
   "source": [
    "from scipy.io import loadmat, savemat\n",
    "mat = loadmat('/home/ubertrader/Downloads/strategy_210301.mat')"
   ]
  },
  {
   "cell_type": "code",
   "execution_count": 21,
   "metadata": {
    "collapsed": false
   },
   "outputs": [],
   "source": [
    "mat_date = mat['optStr']['seriesDates'][0][0][0]\n",
    "dates = list(map(convert_mat_date, mat_date))"
   ]
  },
  {
   "cell_type": "code",
   "execution_count": 26,
   "metadata": {
    "collapsed": false
   },
   "outputs": [],
   "source": [
    "is_rollover = mat['optStr']['rolloverDay'][0][0][0]"
   ]
  },
  {
   "cell_type": "code",
   "execution_count": 29,
   "metadata": {
    "collapsed": false
   },
   "outputs": [
    {
     "data": {
      "text/plain": [
       "array([0, 0, 0, ..., 0, 0, 0], dtype=uint8)"
      ]
     },
     "execution_count": 29,
     "metadata": {},
     "output_type": "execute_result"
    }
   ],
   "source": [
    "is_rollover"
   ]
  },
  {
   "cell_type": "code",
   "execution_count": 89,
   "metadata": {
    "collapsed": false
   },
   "outputs": [],
   "source": [
    "def get_leg_array_ids(mat, leg_index):\n",
    "    res = np.zeros_like(mat['optStr']['optLegName'][0][0][0])\n",
    "    \n",
    "    for i in range(len(res)):\n",
    "        res[i] = mat['optStr']['optLegName'][0][0][leg_index][i][0][0]\n",
    "    \n",
    "    return res    \n",
    "\n",
    "def get_leg_array_price(mat, leg_index):\n",
    "    res = mat['optStr']['realLegSeries'][0][0][leg_index]\n",
    "    return res    "
   ]
  },
  {
   "cell_type": "code",
   "execution_count": 90,
   "metadata": {
    "collapsed": false
   },
   "outputs": [],
   "source": [
    "leg_ids = get_leg_array_ids(mat, 0)\n",
    "leg_price = get_leg_array_price(mat, 0)"
   ]
  },
  {
   "cell_type": "code",
   "execution_count": 88,
   "metadata": {
    "collapsed": false
   },
   "outputs": [
    {
     "data": {
      "text/plain": [
       "array([ 1327.25,  1327.25,  1327.25, ...,  2162.25,  2161.75,  2160.5 ])"
      ]
     },
     "execution_count": 88,
     "metadata": {},
     "output_type": "execute_result"
    }
   ],
   "source": [
    "mat['optStr']['realLegSeries'][0][0][1]"
   ]
  },
  {
   "cell_type": "code",
   "execution_count": 91,
   "metadata": {
    "collapsed": true
   },
   "outputs": [],
   "source": [
    "def leg_contract_series(leg_ids, leg_price, dates, contracts_index):\n",
    "    if len(leg_ids) != len(dates):\n",
    "        raise Exception('if len(leg_ids) != len(dates):')\n",
    "    contracts = []\n",
    "    \n",
    "    for i in range(len(leg_ids)):\n",
    "        con_id = leg_ids[i]\n",
    "        \n",
    "        name = contracts_index.ix[con_id]['optionname']\n",
    "        contracts.append(name)\n",
    "        \n",
    "    return pd.DataFrame({'name': contracts, 'price': leg_price}, index=dates)"
   ]
  },
  {
   "cell_type": "code",
   "execution_count": 93,
   "metadata": {
    "collapsed": false
   },
   "outputs": [],
   "source": [
    "leg_series = leg_contract_series(leg_ids, leg_price, dates, options)"
   ]
  },
  {
   "cell_type": "code",
   "execution_count": 80,
   "metadata": {
    "collapsed": true
   },
   "outputs": [],
   "source": [
    "def print_full(x):\n",
    "    pd.set_option('display.max_rows', len(x))\n",
    "    print(x)\n",
    "    pd.reset_option('display.max_rows')\n"
   ]
  },
  {
   "cell_type": "code",
   "execution_count": 94,
   "metadata": {
    "collapsed": false
   },
   "outputs": [
    {
     "name": "stdout",
     "output_type": "stream",
     "text": [
      "                       name  price\n",
      "2014-01-01  C.US.EPF1418000  42.00\n",
      "2014-01-02  C.US.EPF1418000  36.25\n",
      "2014-01-03  C.US.EPF1418000  34.75\n",
      "2014-01-06  C.US.EPF1418000  29.00\n",
      "2014-01-07  C.US.EPF1418000  36.75\n",
      "2014-01-08  C.US.EPF1418000  35.00\n",
      "2014-01-09  C.US.EPF1418000  36.25\n",
      "2014-01-10  C.US.EPF1418000  37.00\n",
      "2014-01-13  C.US.EPF1418000  18.25\n",
      "2014-01-14  C.US.EPF1418000  33.75\n",
      "2014-01-15  C.US.EPG1418400  43.75\n",
      "2014-01-16  C.US.EPG1418400  23.50\n",
      "2014-01-17  C.US.EPG1418400  19.75\n",
      "2014-01-20  C.US.EPG1418400  20.25\n",
      "2014-01-21  C.US.EPG1418400  21.00\n",
      "2014-01-22  C.US.EPG1418400  22.00\n",
      "2014-01-23  C.US.EPG1418400  13.75\n",
      "2014-01-24  C.US.EPG1418400   6.25\n",
      "2014-01-27  C.US.EPG1418400   4.60\n",
      "2014-01-28  C.US.EPG1418400   4.25\n",
      "2014-01-29  C.US.EPG1418400   2.40\n",
      "2014-01-30  C.US.EPG1418400   5.00\n",
      "2014-01-31  C.US.EPG1418400   3.65\n",
      "2014-02-03  C.US.EPG1418400   0.80\n",
      "2014-02-04  C.US.EPG1418400   0.80\n",
      "2014-02-05  C.US.EPG1418400   0.85\n",
      "2014-02-06  C.US.EPG1418400   1.10\n",
      "2014-02-07  C.US.EPG1418400   1.75\n",
      "2014-02-10  C.US.EPG1418400   1.30\n",
      "2014-02-11  C.US.EPG1418400   3.85\n",
      "2014-02-12  C.US.EPG1418400   3.00\n",
      "2014-02-13  C.US.EPG1418400   4.65\n",
      "2014-02-14  C.US.EPG1418400   6.50\n",
      "2014-02-17  C.US.EPG1418400   7.50\n",
      "2014-02-18  C.US.EPG1418400   7.25\n",
      "2014-02-19  C.US.EPH1418250   2.10\n",
      "2014-02-20  C.US.EPH1418250  33.75\n",
      "2014-02-21  C.US.EPH1418250  29.50\n",
      "2014-02-24  C.US.EPH1418250  37.75\n",
      "2014-02-25  C.US.EPH1418250  32.25\n",
      "2014-02-26  C.US.EPH1418250  32.25\n",
      "2014-02-27  C.US.EPH1418250  36.50\n",
      "2014-02-28  C.US.EPH1418250  40.75\n",
      "2014-03-03  C.US.EPH1418250  32.50\n",
      "2014-03-04  C.US.EPH1418250  53.75\n",
      "2014-03-05  C.US.EPH1418250  52.25\n",
      "2014-03-06  C.US.EPH1418250  55.75\n",
      "2014-03-07  C.US.EPH1418250  54.50\n",
      "2014-03-10  C.US.EPH1418250  55.25\n",
      "2014-03-11  C.US.EPH1418250  45.25\n",
      "2014-03-12  C.US.EPH1418250  46.25\n",
      "2014-03-13  C.US.EPH1418250  31.50\n",
      "2014-03-14  C.US.EPH1418250  28.25\n",
      "2014-03-17  C.US.EPH1418250  35.75\n",
      "2014-03-18  C.US.EPH1418250  47.50\n",
      "2014-03-19  C.US.EPJ1418550  37.25\n",
      "2014-03-20  C.US.EPJ1418550  29.50\n",
      "2014-03-21  C.US.EPJ1418550  26.00\n",
      "2014-03-24  C.US.EPJ1418550  21.75\n",
      "2014-03-25  C.US.EPJ1418550  24.00\n",
      "2014-03-26  C.US.EPJ1418550  18.25\n",
      "2014-03-27  C.US.EPJ1418550  15.50\n",
      "2014-03-28  C.US.EPJ1418550  17.50\n",
      "2014-03-31  C.US.EPJ1418550  24.75\n",
      "2014-04-01  C.US.EPJ1418550  32.00\n",
      "2014-04-02  C.US.EPJ1418550  36.50\n",
      "2014-04-03  C.US.EPJ1418550  35.50\n",
      "2014-04-04  C.US.EPJ1418550  19.75\n",
      "2014-04-07  C.US.EPJ1418550   9.75\n",
      "2014-04-08  C.US.EPJ1418550  10.50\n",
      "2014-04-09  C.US.EPJ1418550  19.25\n",
      "2014-04-10  C.US.EPJ1418550   5.00\n",
      "2014-04-11  C.US.EPJ1418550   1.75\n",
      "2014-04-14  C.US.EPJ1418550   1.20\n",
      "2014-04-15  C.US.EPK1418300   2.50\n",
      "2014-04-16  C.US.EPK1418300  42.75\n",
      "2014-04-17  C.US.EPK1418300  44.50\n",
      "2014-04-18  C.US.EPK1418300  44.00\n",
      "2014-04-21  C.US.EPK1418300  46.75\n",
      "2014-04-22  C.US.EPK1418300  54.25\n",
      "2014-04-23  C.US.EPK1418300  50.00\n",
      "2014-04-24  C.US.EPK1418300  51.25\n",
      "2014-04-25  C.US.EPK1418300  41.75\n",
      "2014-04-28  C.US.EPK1418300  44.75\n",
      "2014-04-29  C.US.EPK1418300  50.00\n",
      "2014-04-30  C.US.EPK1418300  53.00\n",
      "2014-05-01  C.US.EPK1418300  51.00\n",
      "2014-05-02  C.US.EPK1418300  49.25\n",
      "2014-05-05  C.US.EPK1418300  51.50\n",
      "2014-05-06  C.US.EPK1418300  39.25\n",
      "2014-05-07  C.US.EPK1418300  46.50\n",
      "2014-05-08  C.US.EPK1418300  43.25\n",
      "2014-05-09  C.US.EPK1418300  45.50\n",
      "2014-05-12  C.US.EPK1418300  63.00\n",
      "2014-05-13  C.US.EPK1418300  63.75\n",
      "2014-05-14  C.US.EPM1418800  55.00\n",
      "2014-05-15  C.US.EPM1418800  20.25\n",
      "2014-05-16  C.US.EPM1418800  22.00\n",
      "2014-05-19  C.US.EPM1418800  25.00\n",
      "2014-05-20  C.US.EPM1418800  19.00\n",
      "2014-05-21  C.US.EPM1418800  25.00\n",
      "2014-05-22  C.US.EPM1418800  28.50\n",
      "2014-05-23  C.US.EPM1418800  32.50\n",
      "2014-05-26  C.US.EPM1418800  35.75\n",
      "2014-05-27  C.US.EPM1418800  39.50\n",
      "2014-05-28  C.US.EPM1418800  39.00\n",
      "2014-05-29  C.US.EPM1418800  44.75\n",
      "2014-05-30  C.US.EPM1418800  46.50\n",
      "2014-06-02  C.US.EPM1418800  48.25\n",
      "2014-06-03  C.US.EPM1418800  47.25\n",
      "2014-06-04  C.US.EPM1418800  50.75\n",
      "2014-06-05  C.US.EPM1418800  61.00\n",
      "2014-06-06  C.US.EPM1418800  67.50\n",
      "2014-06-09  C.US.EPM1418800  70.75\n",
      "2014-06-10  C.US.EPM1418800  69.75\n",
      "2014-06-11  C.US.EPM1418800  65.25\n",
      "2014-06-12  C.US.EPM1418800  50.75\n",
      "2014-06-13  C.US.EPM1418800  54.75\n",
      "2014-06-16  C.US.EPM1418800  57.25\n",
      "2014-06-17  C.US.EPM1418800  62.25\n",
      "2014-06-18  C.US.EPN1419450  77.25\n",
      "2014-06-19  C.US.EPN1419450  21.75\n",
      "2014-06-20  C.US.EPN1419450  23.75\n",
      "2014-06-23  C.US.EPN1419450  23.00\n",
      "2014-06-24  C.US.EPN1419450  18.25\n",
      "2014-06-25  C.US.EPN1419450  22.00\n",
      "2014-06-26  C.US.EPN1419450  20.00\n",
      "2014-06-27  C.US.EPN1419450  21.25\n",
      "2014-06-30  C.US.EPN1419450  19.75\n"
     ]
    }
   ],
   "source": [
    "print_full(leg_series.ix['2014-01':'2014-06'])"
   ]
  },
  {
   "cell_type": "code",
   "execution_count": null,
   "metadata": {
    "collapsed": true
   },
   "outputs": [],
   "source": [
    "    \n"
   ]
  }
 ],
 "metadata": {
  "kernelspec": {
   "display_name": "Python [Root]",
   "language": "python",
   "name": "Python [Root]"
  },
  "language_info": {
   "codemirror_mode": {
    "name": "ipython",
    "version": 3
   },
   "file_extension": ".py",
   "mimetype": "text/x-python",
   "name": "python",
   "nbconvert_exporter": "python",
   "pygments_lexer": "ipython3",
   "version": "3.5.2"
  }
 },
 "nbformat": 4,
 "nbformat_minor": 0
}
