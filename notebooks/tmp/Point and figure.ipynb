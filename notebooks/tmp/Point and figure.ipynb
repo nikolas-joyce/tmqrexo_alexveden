{
 "cells": [
  {
   "cell_type": "code",
   "execution_count": 1,
   "metadata": {
    "collapsed": true
   },
   "outputs": [],
   "source": [
    "import pandas as pd\n",
    "import numpy as np"
   ]
  },
  {
   "cell_type": "code",
   "execution_count": 106,
   "metadata": {
    "collapsed": false
   },
   "outputs": [],
   "source": [
    "col1_y = np.arange(20, step=2)\n",
    "idx1_x = [0] * len(col_x_y)\n",
    "\n",
    "col2_y = np.arange(0,40, step=2)\n",
    "idx2_x = [1] * len(col2_y)\n",
    "#idx2_x = np.place(idx2_x, idx2_x == 0, [1])"
   ]
  },
  {
   "cell_type": "code",
   "execution_count": 107,
   "metadata": {
    "collapsed": false,
    "scrolled": true
   },
   "outputs": [
    {
     "data": {
      "text/plain": [
       "array([ 0,  2,  4,  6,  8, 10, 12, 14, 16, 18, 20, 22, 24, 26, 28, 30, 32,\n",
       "       34, 36, 38])"
      ]
     },
     "execution_count": 107,
     "metadata": {},
     "output_type": "execute_result"
    }
   ],
   "source": [
    "col2_y"
   ]
  },
  {
   "cell_type": "code",
   "execution_count": 110,
   "metadata": {
    "collapsed": false
   },
   "outputs": [
    {
     "data": {
      "text/html": [
       "<iframe id=\"igraph\" scrolling=\"no\" style=\"border:none;\" seamless=\"seamless\" src=\"https://plot.ly/~tmqr/52.embed\" height=\"525px\" width=\"100%\"></iframe>"
      ],
      "text/plain": [
       "<plotly.tools.PlotlyDisplay object>"
      ]
     },
     "execution_count": 110,
     "metadata": {},
     "output_type": "execute_result"
    }
   ],
   "source": [
    "import plotly.plotly as py\n",
    "import plotly.graph_objs as go\n",
    "\n",
    "# Create random data with numpy\n",
    "import numpy as np\n",
    "\n",
    "py.sign_in('tmqr', '8rctfyu197')\n",
    "\n",
    "N = 1000\n",
    "random_x = [0]\n",
    "random_y = np.random.randn(N)\n",
    "\n",
    "\n",
    "trace1 = go.Scatter(\n",
    "    x = idx1_x,\n",
    "    y = col1_y,\n",
    "    name='Down',\n",
    "    mode = 'markers',\n",
    "    marker = dict(symbol=\"o\", size=15, color = 'rgba(255, 0, 0, 0.9)')\n",
    ")\n",
    "\n",
    "trace2 = go.Scatter(\n",
    "    x = idx2_x,\n",
    "    y = col2_y,\n",
    "    name = 'Up',\n",
    "    mode = 'markers',\n",
    "    marker = dict(symbol=\"x\", size=15, color = 'rgba(0, 255, 0, 0.9)')\n",
    ")\n",
    "\n",
    "data = [trace1, trace2]\n",
    "\n",
    "layout = go.Layout(\n",
    "    title=\"Point And Figure\",\n",
    "    xaxis=dict( autotick=False, autorange=False\n",
    "        )\n",
    "    )\n",
    "fig = go.Figure(data=data, layout=layout)\n",
    "# Plot and embed in ipython notebook!\n",
    "py.iplot(fig, filename='basic-scatter')"
   ]
  },
  {
   "cell_type": "code",
   "execution_count": null,
   "metadata": {
    "collapsed": true
   },
   "outputs": [],
   "source": []
  },
  {
   "cell_type": "code",
   "execution_count": null,
   "metadata": {
    "collapsed": true
   },
   "outputs": [],
   "source": []
  }
 ],
 "metadata": {
  "kernelspec": {
   "display_name": "Python 3",
   "language": "python",
   "name": "python3"
  },
  "language_info": {
   "codemirror_mode": {
    "name": "ipython",
    "version": 3
   },
   "file_extension": ".py",
   "mimetype": "text/x-python",
   "name": "python",
   "nbconvert_exporter": "python",
   "pygments_lexer": "ipython3",
   "version": "3.5.1"
  }
 },
 "nbformat": 4,
 "nbformat_minor": 0
}
