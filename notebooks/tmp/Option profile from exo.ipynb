{
 "cells": [
  {
   "cell_type": "code",
   "execution_count": 2,
   "metadata": {
    "collapsed": false
   },
   "outputs": [],
   "source": [
    "import sys,os\n",
    "sys.path.append('..')\n",
    "\n",
    "import pandas as pd\n",
    "import numpy as np\n",
    "import scipy\n",
    "from scipy.io import loadmat, savemat"
   ]
  },
  {
   "cell_type": "code",
   "execution_count": 3,
   "metadata": {
    "collapsed": false
   },
   "outputs": [
    {
     "name": "stdout",
     "output_type": "stream",
     "text": [
      "Populating the interactive namespace from numpy and matplotlib\n"
     ]
    }
   ],
   "source": [
    "%pylab inline\n",
    "%load_ext autoreload\n",
    "%autoreload 2"
   ]
  },
  {
   "cell_type": "code",
   "execution_count": 5,
   "metadata": {
    "collapsed": true
   },
   "outputs": [],
   "source": [
    "# File name of exo strategy\n",
    "EXO_File = 'strategy_270225'"
   ]
  },
  {
   "cell_type": "code",
   "execution_count": 13,
   "metadata": {
    "collapsed": false
   },
   "outputs": [],
   "source": [
    "mat = loadmat('../../mat/'+EXO_File+'.mat')"
   ]
  },
  {
   "cell_type": "code",
   "execution_count": 14,
   "metadata": {
    "collapsed": false
   },
   "outputs": [
    {
     "name": "stdout",
     "output_type": "stream",
     "text": [
      "('cfgName', 'strategyID', 'instrumentSymbol', 'instrumentId', 'tickIncrement', 'secondaryTickIncrement', 'secondaryTickIncrementRule', 'tickValue', 'margin', 'nDecimalPlaces', 'formattingStr', 'dayOHLC', 'sphIndicator', 'splIndicator', 'sphLevel', 'splLevel', 'sphVolume', 'splVolume', 'optionStrikeIncrement', 'customdayboundarytime', 'decisionOffsetMinutes', 'decisionTime', 'legs', 'pcf', 'cfgContracts', 'cfgMonthsB4Exp', 'cfgRollDaysB4Exp', 'cfgOptStrikePriceInc', 'longContracts', 'shortContracts', 'instrumentDecPoints', 'commisionPerContract', 'marginPerContract', 'fEnabled', 'iterate', 'maxContracts', 'minContracts', 'incContracts', 'nDbContracts', 'dbContracts', 'tmlOptimalizationDates', 'tmlOptimalizationDatesIdx', 'tmlOptimalParameters', 'tmlPeriodPerformance', 'nDbOptionExpiry', 'dbOptionExpiry', 'activeContract', 'activeContractId', 'strikeLevel', 'seriesDates', 'dataSeries', 'dataSeriesPD', 'decisionSeries', 'adjustedDecisionSeries', 'adjustedSeries', 'movingAverageLead', 'movingAverageLag', 'avgClassification', 'volumeSeries', 'idxContractSeries', 'nDbOptions', 'dbOptions', 'legSeries', 'decisionLegSeries', 'adjustedLegSeries', 'legImpliedVolatility', 'legImpliedVolatilityPD', 'rolloverPrice', 'legStrike', 'timeToExpiry', 'legSeriesDates', 'optLegName', 'priceLegSeries', 'optPosition', 'optPrice', 'entrySignalingSeries', 'exitSignalingSeries', 'settlementDataSeries', 'settlementDataSeriesPD', 'realLegSeries', 'rolloverDay', 'lastRolloverPrice', 'longSignal', 'shortSignal', 'optLongMargin', 'optShortMargin', 'rtSeries')\n"
     ]
    }
   ],
   "source": [
    "print(mat['optStr'].dtype.names)"
   ]
  },
  {
   "cell_type": "code",
   "execution_count": 64,
   "metadata": {
    "collapsed": false,
    "scrolled": true
   },
   "outputs": [
    {
     "data": {
      "text/plain": [
       "array([-1, -1,  1,  1], dtype=int16)"
      ]
     },
     "execution_count": 64,
     "metadata": {},
     "output_type": "execute_result"
    }
   ],
   "source": [
    "mat['optStr']['cfgContracts'][0][0][0]"
   ]
  },
  {
   "cell_type": "code",
   "execution_count": 52,
   "metadata": {
    "collapsed": false
   },
   "outputs": [
    {
     "data": {
      "text/plain": [
       "dict_keys(['optStat', 'dollarPnl', 'pyrIdx', 'failureLongLine', 'optShortMargin', 'iterParam', '__header__', 'optMargin', '__version__', 'lotSizeShortFactor', 'failureShortLine', 'lotSizeLong', 'optStr', '__globals__', 'fOpenRisk', 'lotSizeShort'])"
      ]
     },
     "execution_count": 52,
     "metadata": {},
     "output_type": "execute_result"
    }
   ],
   "source": [
    "mat.keys()"
   ]
  },
  {
   "cell_type": "code",
   "execution_count": null,
   "metadata": {
    "collapsed": true
   },
   "outputs": [],
   "source": []
  }
 ],
 "metadata": {
  "kernelspec": {
   "display_name": "Python 3",
   "language": "python",
   "name": "python3"
  },
  "language_info": {
   "codemirror_mode": {
    "name": "ipython",
    "version": 3
   },
   "file_extension": ".py",
   "mimetype": "text/x-python",
   "name": "python",
   "nbconvert_exporter": "python",
   "pygments_lexer": "ipython3",
   "version": "3.5.1"
  }
 },
 "nbformat": 4,
 "nbformat_minor": 0
}
