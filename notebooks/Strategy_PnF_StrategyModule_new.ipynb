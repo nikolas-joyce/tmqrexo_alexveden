{
 "cells": [
  {
   "cell_type": "code",
   "execution_count": 3,
   "metadata": {
    "collapsed": false
   },
   "outputs": [
    {
     "name": "stdout",
     "output_type": "stream",
     "text": [
      "Populating the interactive namespace from numpy and matplotlib\n"
     ]
    }
   ],
   "source": [
    "%pylab inline\n",
    "%load_ext autoreload\n",
    "%autoreload 2"
   ]
  },
  {
   "cell_type": "code",
   "execution_count": 4,
   "metadata": {
    "collapsed": false
   },
   "outputs": [],
   "source": [
    "import sys,os\n",
    "sys.path.append('..')\n",
    "from backtester import matlab, backtester\n",
    "from backtester.analysis import *\n",
    "from backtester.strategy import StrategyBase, OptParam, OptParamArray\n",
    "from backtester.swarms.ranking import SwarmRanker\n",
    "from backtester.swarms.rebalancing import SwarmRebalance\n",
    "from backtester.swarms.filters import SwarmFilter\n",
    "from backtester.costs import CostsManagerEXOFixed\n",
    "from backtester.exoinfo import EXOInfo\n",
    "from backtester.swarms.rankingclasses import *\n",
    "from backtester.swarms.swarm import Swarm\n",
    "\n",
    "\n",
    "import pandas as pd\n",
    "import numpy as np\n",
    "import scipy"
   ]
  },
  {
   "cell_type": "code",
   "execution_count": 5,
   "metadata": {
    "collapsed": false
   },
   "outputs": [],
   "source": [
    "from strategies.strategy_pnf import StrategyPointAndFigurePatterns"
   ]
  },
  {
   "cell_type": "code",
   "execution_count": 1,
   "metadata": {
    "collapsed": false
   },
   "outputs": [
    {
     "name": "stdout",
     "output_type": "stream",
     "text": [
      "ES_BullishCollarBW\n",
      "ES_BearishCollarBW\n",
      "ES_BullishCollar\n"
     ]
    }
   ],
   "source": [
    "from scripts.settings import *\n",
    "try:\n",
    "    from scripts.settings_local import *\n",
    "except:\n",
    "    pass\n",
    "\n",
    "from exobuilder.data.exostorage import EXOStorage\n",
    "\n",
    "storage = EXOStorage(MONGO_CONNSTR, MONGO_EXO_DB)\n",
    "\n",
    "\n",
    "exo_filter = '*'     # All \n",
    "#exo_filter = 'ES_'  # ES only\n",
    "exo_filter = 'ES*Collar'  # ES Collars (incl Bearish, Bullish, BW and vanilla)\n",
    "\n",
    "[print(exo) for exo in storage.exo_list(exo_filter)];"
   ]
  },
  {
   "cell_type": "markdown",
   "metadata": {},
   "source": [
    "## Script settings"
   ]
  },
  {
   "cell_type": "code",
   "execution_count": 6,
   "metadata": {
    "collapsed": false
   },
   "outputs": [],
   "source": [
    "STRATEGY_CONTEXT = {\n",
    "    'strategy': { \n",
    "        'class': StrategyPointAndFigurePatterns,\n",
    "        'exo_name': 'ES_BearishCollarBW',        # <---- Select and paste EXO name from cell above\n",
    "        'exo_storage': storage,\n",
    "        'opt_params': [\n",
    "                        #OptParam(name, default_value, min_value, max_value, step)\n",
    "                        OptParamArray('Direction', [-1]),\n",
    "                        OptParam('BoxSize', 1, 50, 200, 50),\n",
    "                        OptParam('Reversal', 2, 2, 10, 1),\n",
    "                        OptParamArray('MaxMinWindowPercent', [0.05]),\n",
    "                        OptParam('ColumnConsecMoveCount', 2, 1, 1, 1),\n",
    "                        OptParamArray('RulesIndex', np.arange(9)),\n",
    "                        OptParam('MedianPeriod', 5, 5, 50, 10),\n",
    "            \n",
    "            ],\n",
    "    },\n",
    "    'swarm': {\n",
    "        'members_count': 5,\n",
    "        'ranking_class': RankerHighestReturns(return_period=14),\n",
    "        'rebalance_time_function': SwarmRebalance.every_friday,\n",
    "\n",
    "    },\n",
    "    'costs':{\n",
    "        'manager': CostsManagerEXOFixed,\n",
    "        'context': {\n",
    "            'costs_options': 3.0,\n",
    "            'costs_futures': 3.0,\n",
    "        }\n",
    "    }\n",
    "}"
   ]
  },
  {
   "cell_type": "markdown",
   "metadata": {},
   "source": [
    "# Backtest class based strategy"
   ]
  },
  {
   "cell_type": "code",
   "execution_count": 7,
   "metadata": {
    "collapsed": false
   },
   "outputs": [],
   "source": [
    "smgr = Swarm(STRATEGY_CONTEXT)\n",
    "smgr.run_swarm()\n",
    "smgr.pick()\n",
    "\n",
    "# Saving results to swarms directory\n",
    "smgr.save('./swarms/')"
   ]
  },
  {
   "cell_type": "markdown",
   "metadata": {},
   "source": [
    "### WARNING! Loading swarm from file (don't run next cell if you want new swarm instance)"
   ]
  },
  {
   "cell_type": "code",
   "execution_count": 6,
   "metadata": {
    "collapsed": false
   },
   "outputs": [],
   "source": [
    "#smgr = Swarm.load(strategy_context=STRATEGY_CONTEXT, directory='./swarms/')\n",
    "#print('Loading: '+smgr.get_swarm_name())"
   ]
  },
  {
   "cell_type": "code",
   "execution_count": 8,
   "metadata": {
    "collapsed": false,
    "scrolled": false
   },
   "outputs": [
    {
     "data": {
      "image/png": "[encoded data removed]",
      "text/plain": [
       "<matplotlib.figure.Figure at 0x7f2bb293e9b0>"
      ]
     },
     "metadata": {},
     "output_type": "display_data"
    }
   ],
   "source": [
    "figsize(10,10)\n",
    "smgr.picked_equity.plot(label='Picked swarm equity');\n",
    "smgr.raw_equity.plot(label='Average swarm equity');\n",
    "legend(loc=2);"
   ]
  },
  {
   "cell_type": "code",
   "execution_count": null,
   "metadata": {
    "collapsed": false,
    "scrolled": true
   },
   "outputs": [],
   "source": [
    "smgr.raw_swarm.plot(legend=False)"
   ]
  },
  {
   "cell_type": "code",
   "execution_count": null,
   "metadata": {
    "collapsed": false,
    "scrolled": false
   },
   "outputs": [],
   "source": [
    "#\n",
    "# To export swarms above to .csv, uncomment this\n",
    "#\n",
    "\n",
    "#swarm_df = smgr.swarm\n",
    "#swarm_df.to_csv('./temp_swarms/ichi_swarm.csv')"
   ]
  },
  {
   "cell_type": "code",
   "execution_count": null,
   "metadata": {
    "collapsed": false
   },
   "outputs": [],
   "source": [
    "figsize(10,10)\n",
    "smgr.picked_equity.plot(label='Picked swarm equity');\n",
    "smgr.raw_equity.plot(label='Average swarm equity');\n",
    "legend(loc=2);"
   ]
  },
  {
   "cell_type": "code",
   "execution_count": null,
   "metadata": {
    "collapsed": false
   },
   "outputs": [],
   "source": [
    "smgr.picked_swarm.plot()"
   ]
  },
  {
   "cell_type": "markdown",
   "metadata": {},
   "source": [
    "# Swarm exposure"
   ]
  },
  {
   "cell_type": "code",
   "execution_count": null,
   "metadata": {
    "collapsed": false
   },
   "outputs": [],
   "source": [
    "smgr.picked_exposure.sum(axis=1).rolling(10).mean().plot()"
   ]
  },
  {
   "cell_type": "markdown",
   "metadata": {},
   "source": [
    "# Swarm statistics"
   ]
  },
  {
   "cell_type": "markdown",
   "metadata": {},
   "source": [
    "#### Non-picked swarm stats"
   ]
  },
  {
   "cell_type": "code",
   "execution_count": null,
   "metadata": {
    "collapsed": false
   },
   "outputs": [],
   "source": [
    "smgr.picked_stats"
   ]
  },
  {
   "cell_type": "markdown",
   "metadata": {},
   "source": [
    "## Exo information"
   ]
  },
  {
   "cell_type": "code",
   "execution_count": null,
   "metadata": {
    "collapsed": false
   },
   "outputs": [],
   "source": [
    "smgr.strategy.exoinfo.exo_info"
   ]
  },
  {
   "cell_type": "code",
   "execution_count": null,
   "metadata": {
    "collapsed": false
   },
   "outputs": [],
   "source": [
    "smgr.strategy.exoinfo.data.exo.plot()"
   ]
  },
  {
   "cell_type": "markdown",
   "metadata": {},
   "source": [
    "### Global filter information (obsolete)\n"
   ]
  },
  {
   "cell_type": "markdown",
   "metadata": {},
   "source": [
    "## Costs information (per 1-exo unit)"
   ]
  },
  {
   "cell_type": "code",
   "execution_count": null,
   "metadata": {
    "collapsed": false
   },
   "outputs": [],
   "source": [
    "figsize(10,5)\n",
    "smgr.strategy.costs.plot()"
   ]
  },
  {
   "cell_type": "markdown",
   "metadata": {
    "collapsed": true
   },
   "source": [
    "## Margin graphs"
   ]
  },
  {
   "cell_type": "markdown",
   "metadata": {},
   "source": [
    "### EXO Margin (per 1 EXO unit)"
   ]
  },
  {
   "cell_type": "code",
   "execution_count": null,
   "metadata": {
    "collapsed": false
   },
   "outputs": [],
   "source": [
    "smgr.strategy.exoinfo.margin().plot()"
   ]
  },
  {
   "cell_type": "markdown",
   "metadata": {
    "collapsed": true
   },
   "source": [
    "# Saving results"
   ]
  },
  {
   "cell_type": "code",
   "execution_count": null,
   "metadata": {
    "collapsed": false
   },
   "outputs": [],
   "source": [
    "smgr.save('./swarms/')"
   ]
  },
  {
   "cell_type": "code",
   "execution_count": null,
   "metadata": {
    "collapsed": true
   },
   "outputs": [],
   "source": []
  }
 ],
 "metadata": {
  "kernelspec": {
   "display_name": "Python [Root]",
   "language": "python",
   "name": "Python [Root]"
  },
  "language_info": {
   "codemirror_mode": {
    "name": "ipython",
    "version": 3
   },
   "file_extension": ".py",
   "mimetype": "text/x-python",
   "name": "python",
   "nbconvert_exporter": "python",
   "pygments_lexer": "ipython3",
   "version": "3.5.2"
  }
 },
 "nbformat": 4,
 "nbformat_minor": 0
}
