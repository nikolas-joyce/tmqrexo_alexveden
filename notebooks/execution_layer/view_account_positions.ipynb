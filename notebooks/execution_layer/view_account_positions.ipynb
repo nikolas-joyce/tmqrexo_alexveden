{
 "cells": [
  {
   "cell_type": "code",
   "execution_count": 1,
   "metadata": {
    "collapsed": false
   },
   "outputs": [
    {
     "name": "stdout",
     "output_type": "stream",
     "text": [
      "Populating the interactive namespace from numpy and matplotlib\n"
     ]
    }
   ],
   "source": [
    "%pylab inline\n",
    "%load_ext autoreload\n",
    "%autoreload 2"
   ]
  },
  {
   "cell_type": "code",
   "execution_count": 2,
   "metadata": {
    "collapsed": true
   },
   "outputs": [],
   "source": [
    "from tradingcore.execution_manager import ExecutionManager\n",
    "from tradingcore.campaign import Campaign\n",
    "from tradingcore.account import Account\n",
    "from tradingcore.moneymanagement import PlainMM\n",
    "\n",
    "from exobuilder.data.datasource_mongo import DataSourceMongo\n",
    "from exobuilder.data.datasource_sql import DataSourceSQL\n",
    "from exobuilder.data.assetindex_mongo import AssetIndexMongo\n",
    "from exobuilder.data.exostorage import EXOStorage\n",
    "\n",
    "import pprint"
   ]
  },
  {
   "cell_type": "code",
   "execution_count": 3,
   "metadata": {
    "collapsed": true
   },
   "outputs": [],
   "source": [
    "try:\n",
    "    from .settings import *\n",
    "except SystemError:\n",
    "    from scripts.settings import *\n",
    "\n",
    "try:\n",
    "    from .settings_local import *\n",
    "except SystemError:\n",
    "    try:\n",
    "        from scripts.settings_local import *\n",
    "    except ImportError:\n",
    "        pass\n",
    "    pass"
   ]
  },
  {
   "cell_type": "code",
   "execution_count": 4,
   "metadata": {
    "collapsed": false
   },
   "outputs": [],
   "source": [
    "assetindex = AssetIndexMongo(MONGO_CONNSTR, MONGO_EXO_DB)\n",
    "storage = EXOStorage(MONGO_CONNSTR, MONGO_EXO_DB)\n",
    "#datasource = DataSourceSQL(SQL_HOST, SQL_USER, SQL_PASS, assetindex, futures_limit=10, options_limit=10)\n",
    "datasource = DataSourceMongo(MONGO_CONNSTR, MONGO_EXO_DB, assetindex, futures_limit=10, options_limit=10, exostorage=storage)\n"
   ]
  },
  {
   "cell_type": "code",
   "execution_count": 5,
   "metadata": {
    "collapsed": false
   },
   "outputs": [],
   "source": [
    "exmgr = ExecutionManager(MONGO_CONNSTR, datasource, dbname=MONGO_EXO_DB)"
   ]
  },
  {
   "cell_type": "code",
   "execution_count": 6,
   "metadata": {
    "collapsed": true
   },
   "outputs": [],
   "source": [
    "campaigns = exmgr.campaign_load_all()\n",
    "accounts = exmgr.account_load_all()\n",
    "pp = pprint.PrettyPrinter(indent=2)"
   ]
  },
  {
   "cell_type": "markdown",
   "metadata": {},
   "source": [
    "## List of available accounts"
   ]
  },
  {
   "cell_type": "code",
   "execution_count": 7,
   "metadata": {
    "collapsed": false
   },
   "outputs": [
    {
     "name": "stdout",
     "output_type": "stream",
     "text": [
      "{ 'campaign_name': 'CL_Sample',\n",
      "  'client_name': 'test_client',\n",
      "  'info': {'size_factor': 1.0},\n",
      "  'mmclass_name': 'plain',\n",
      "  'name': 'new_account1'}\n"
     ]
    }
   ],
   "source": [
    "[pp.pprint(x.as_dict()) for x in accounts.values()];"
   ]
  },
  {
   "cell_type": "markdown",
   "metadata": {},
   "source": [
    "## View accounts positions (just for demonstration)"
   ]
  },
  {
   "cell_type": "code",
   "execution_count": 8,
   "metadata": {
    "collapsed": false
   },
   "outputs": [
    {
     "name": "stdout",
     "output_type": "stream",
     "text": [
      "{ 'new_account1': { '_id': ObjectId('57e53b17b33f83c9a12b4a47'),\n",
      "                    'campaign_name': 'CL_Sample',\n",
      "                    'client_name': 'test_client',\n",
      "                    'info': {'size_factor': 1.0},\n",
      "                    'mmclass_name': 'plain',\n",
      "                    'name': 'new_account1',\n",
      "                    'positions': [ { 'asset': { '_id': ObjectId('57aae75134ac2255e590461b'),\n",
      "                                                '_type': 'opt',\n",
      "                                                'callorput': 'P',\n",
      "                                                'cqgsymbol': 'P.US.CLEX164050',\n",
      "                                                'expirationdate': datetime.datetime(2016, 10, 17, 0, 0),\n",
      "                                                'idcontract': 3716,\n",
      "                                                'idinstrument': 21,\n",
      "                                                'idoption': 3182462,\n",
      "                                                'name': 'P.US.CLEX164050',\n",
      "                                                'optionmonth': 'X',\n",
      "                                                'optionmonthint': 11,\n",
      "                                                'optionname': 'P.US.CLEX164050',\n",
      "                                                'optionyear': 2016,\n",
      "                                                'strikeprice': 40.5},\n",
      "                                     'prev_qty': 1,\n",
      "                                     'qty': 1},\n",
      "                                   { 'asset': { '_id': ObjectId('57aae75134ac2255e590461c'),\n",
      "                                                '_type': 'opt',\n",
      "                                                'callorput': 'P',\n",
      "                                                'cqgsymbol': 'P.US.CLEX164100',\n",
      "                                                'expirationdate': datetime.datetime(2016, 10, 17, 0, 0),\n",
      "                                                'idcontract': 3716,\n",
      "                                                'idinstrument': 21,\n",
      "                                                'idoption': 3182463,\n",
      "                                                'name': 'P.US.CLEX164100',\n",
      "                                                'optionmonth': 'X',\n",
      "                                                'optionmonthint': 11,\n",
      "                                                'optionname': 'P.US.CLEX164100',\n",
      "                                                'optionyear': 2016,\n",
      "                                                'strikeprice': 41.0},\n",
      "                                     'prev_qty': 1,\n",
      "                                     'qty': 1},\n",
      "                                   { 'asset': { '_id': ObjectId('57aae75134ac2255e5904626'),\n",
      "                                                '_type': 'opt',\n",
      "                                                'callorput': 'P',\n",
      "                                                'cqgsymbol': 'P.US.CLEX164650',\n",
      "                                                'expirationdate': datetime.datetime(2016, 10, 17, 0, 0),\n",
      "                                                'idcontract': 3716,\n",
      "                                                'idinstrument': 21,\n",
      "                                                'idoption': 3182473,\n",
      "                                                'name': 'P.US.CLEX164650',\n",
      "                                                'optionmonth': 'X',\n",
      "                                                'optionmonthint': 11,\n",
      "                                                'optionname': 'P.US.CLEX164650',\n",
      "                                                'optionyear': 2016,\n",
      "                                                'strikeprice': 46.5},\n",
      "                                     'prev_qty': -1,\n",
      "                                     'qty': -1},\n",
      "                                   { 'asset': { '_id': ObjectId('57aae74f34ac2255e5903111'),\n",
      "                                                '_type': 'opt',\n",
      "                                                'callorput': 'C',\n",
      "                                                'cqgsymbol': 'C.US.CLEX164800',\n",
      "                                                'expirationdate': datetime.datetime(2016, 10, 17, 0, 0),\n",
      "                                                'idcontract': 3716,\n",
      "                                                'idinstrument': 21,\n",
      "                                                'idoption': 3176488,\n",
      "                                                'name': 'C.US.CLEX164800',\n",
      "                                                'optionmonth': 'X',\n",
      "                                                'optionmonthint': 11,\n",
      "                                                'optionname': 'C.US.CLEX164800',\n",
      "                                                'optionyear': 2016,\n",
      "                                                'strikeprice': 48.0},\n",
      "                                     'prev_qty': 1,\n",
      "                                     'qty': 1},\n",
      "                                   { 'asset': { '_id': ObjectId('57aae73034ac2255e58e7272'),\n",
      "                                                '_type': 'fut',\n",
      "                                                'contractname': 'F.US.CLEX16',\n",
      "                                                'cqgsymbol': 'F.CLEX16',\n",
      "                                                'expirationdate': datetime.datetime(2016, 10, 20, 0, 0),\n",
      "                                                'idcontract': 3716,\n",
      "                                                'idinstrument': 21,\n",
      "                                                'month': 'X',\n",
      "                                                'monthint': 11,\n",
      "                                                'name': 'F.US.CLEX16',\n",
      "                                                'year': 2016},\n",
      "                                     'prev_qty': -1,\n",
      "                                     'qty': -1},\n",
      "                                   { 'asset': { '_id': ObjectId('57aae75134ac2255e5904620'),\n",
      "                                                '_type': 'opt',\n",
      "                                                'callorput': 'P',\n",
      "                                                'cqgsymbol': 'P.US.CLEX164300',\n",
      "                                                'expirationdate': datetime.datetime(2016, 10, 17, 0, 0),\n",
      "                                                'idcontract': 3716,\n",
      "                                                'idinstrument': 21,\n",
      "                                                'idoption': 3182467,\n",
      "                                                'name': 'P.US.CLEX164300',\n",
      "                                                'optionmonth': 'X',\n",
      "                                                'optionmonthint': 11,\n",
      "                                                'optionname': 'P.US.CLEX164300',\n",
      "                                                'optionyear': 2016,\n",
      "                                                'strikeprice': 43.0},\n",
      "                                     'prev_qty': -1,\n",
      "                                     'qty': -1},\n",
      "                                   { 'asset': { '_id': ObjectId('57aae75034ac2255e5903603'),\n",
      "                                                '_type': 'opt',\n",
      "                                                'callorput': 'C',\n",
      "                                                'cqgsymbol': 'C.US.CLEX165050',\n",
      "                                                'expirationdate': datetime.datetime(2016, 10, 17, 0, 0),\n",
      "                                                'idcontract': 3716,\n",
      "                                                'idinstrument': 21,\n",
      "                                                'idoption': 3177754,\n",
      "                                                'name': 'C.US.CLEX165050',\n",
      "                                                'optionmonth': 'X',\n",
      "                                                'optionmonthint': 11,\n",
      "                                                'optionname': 'C.US.CLEX165050',\n",
      "                                                'optionyear': 2016,\n",
      "                                                'strikeprice': 50.5},\n",
      "                                     'prev_qty': 1,\n",
      "                                     'qty': 1},\n",
      "                                   { 'asset': { '_id': ObjectId('57aae74e34ac2255e5901c50'),\n",
      "                                                '_type': 'opt',\n",
      "                                                'callorput': 'C',\n",
      "                                                'cqgsymbol': 'C.US.CLEX164450',\n",
      "                                                'expirationdate': datetime.datetime(2016, 10, 17, 0, 0),\n",
      "                                                'idcontract': 3716,\n",
      "                                                'idinstrument': 21,\n",
      "                                                'idoption': 3171175,\n",
      "                                                'name': 'C.US.CLEX164450',\n",
      "                                                'optionmonth': 'X',\n",
      "                                                'optionmonthint': 11,\n",
      "                                                'optionname': 'C.US.CLEX164450',\n",
      "                                                'optionyear': 2016,\n",
      "                                                'strikeprice': 44.5},\n",
      "                                     'prev_qty': -1,\n",
      "                                     'qty': -1}]}}\n"
     ]
    }
   ],
   "source": [
    "pp.pprint(exmgr.account_positions_process(write_to_db=False))\n"
   ]
  },
  {
   "cell_type": "code",
   "execution_count": 16,
   "metadata": {
    "collapsed": false
   },
   "outputs": [
    {
     "data": {
      "text/plain": [
       "['sd_Val']"
      ]
     },
     "execution_count": 16,
     "metadata": {},
     "output_type": "execute_result"
    }
   ],
   "source": [
    "list({'sd':'sd_Val'}.values())"
   ]
  },
  {
   "cell_type": "code",
   "execution_count": null,
   "metadata": {
    "collapsed": true
   },
   "outputs": [],
   "source": []
  }
 ],
 "metadata": {
  "kernelspec": {
   "display_name": "Python 3",
   "language": "python",
   "name": "python3"
  },
  "language_info": {
   "codemirror_mode": {
    "name": "ipython",
    "version": 3
   },
   "file_extension": ".py",
   "mimetype": "text/x-python",
   "name": "python",
   "nbconvert_exporter": "python",
   "pygments_lexer": "ipython3",
   "version": "3.5.2"
  }
 },
 "nbformat": 4,
 "nbformat_minor": 0
}
