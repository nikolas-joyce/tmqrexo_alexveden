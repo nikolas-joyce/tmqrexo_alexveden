{
 "cells": [
  {
   "cell_type": "code",
   "execution_count": 1,
   "metadata": {
    "collapsed": false
   },
   "outputs": [
    {
     "name": "stdout",
     "output_type": "stream",
     "text": [
      "Populating the interactive namespace from numpy and matplotlib\n"
     ]
    }
   ],
   "source": [
    "%pylab inline\n",
    "%load_ext autoreload\n",
    "%autoreload 2"
   ]
  },
  {
   "cell_type": "code",
   "execution_count": 2,
   "metadata": {
    "collapsed": true
   },
   "outputs": [],
   "source": [
    "from tradingcore.execution_manager import ExecutionManager\n",
    "from tradingcore.campaign import Campaign\n",
    "from tradingcore.account import Account\n",
    "from tradingcore.moneymanagement import PlainMM\n",
    "\n",
    "from exobuilder.data.datasource_mongo import DataSourceMongo\n",
    "from exobuilder.data.datasource_sql import DataSourceSQL\n",
    "from exobuilder.data.assetindex_mongo import AssetIndexMongo\n",
    "from exobuilder.data.exostorage import EXOStorage\n",
    "\n",
    "import pprint"
   ]
  },
  {
   "cell_type": "code",
   "execution_count": 3,
   "metadata": {
    "collapsed": true
   },
   "outputs": [],
   "source": [
    "try:\n",
    "    from .settings import *\n",
    "except SystemError:\n",
    "    from scripts.settings import *\n",
    "\n",
    "try:\n",
    "    from .settings_local import *\n",
    "except SystemError:\n",
    "    try:\n",
    "        from scripts.settings_local import *\n",
    "    except ImportError:\n",
    "        pass\n",
    "    pass"
   ]
  },
  {
   "cell_type": "code",
   "execution_count": 4,
   "metadata": {
    "collapsed": false
   },
   "outputs": [],
   "source": [
    "assetindex = AssetIndexMongo(MONGO_CONNSTR, MONGO_EXO_DB)\n",
    "storage = EXOStorage(MONGO_CONNSTR, MONGO_EXO_DB)\n",
    "#datasource = DataSourceSQL(SQL_HOST, SQL_USER, SQL_PASS, assetindex, futures_limit=10, options_limit=10)\n",
    "datasource = DataSourceMongo(MONGO_CONNSTR, MONGO_EXO_DB, assetindex, futures_limit=10, options_limit=10, exostorage=storage)\n"
   ]
  },
  {
   "cell_type": "code",
   "execution_count": 5,
   "metadata": {
    "collapsed": false
   },
   "outputs": [],
   "source": [
    "exmgr = ExecutionManager(MONGO_CONNSTR, datasource, dbname=MONGO_EXO_DB)"
   ]
  },
  {
   "cell_type": "code",
   "execution_count": 11,
   "metadata": {
    "collapsed": true
   },
   "outputs": [],
   "source": [
    "campaigns = exmgr.campaign_load_all()\n",
    "accounts = exmgr.account_load_all()\n",
    "pp = pprint.PrettyPrinter(indent=2)"
   ]
  },
  {
   "cell_type": "markdown",
   "metadata": {},
   "source": [
    "## List of available accounts"
   ]
  },
  {
   "cell_type": "code",
   "execution_count": 12,
   "metadata": {
    "collapsed": false
   },
   "outputs": [
    {
     "name": "stdout",
     "output_type": "stream",
     "text": [
      "{ 'campaign_name': 'test_campaign',\n",
      "  'client_name': 'test_client',\n",
      "  'info': {'size_factor': 1.0},\n",
      "  'mmclass_name': 'plain',\n",
      "  'name': 'new_account1'}\n",
      "{ 'campaign_name': 'test_campaign',\n",
      "  'client_name': 'test_client8',\n",
      "  'info': {'size_factor': 1.0},\n",
      "  'mmclass_name': 'plain',\n",
      "  'name': 'test_account'}\n",
      "{ 'campaign_name': 'test_campaign',\n",
      "  'client_name': 'new_client_name',\n",
      "  'info': {'size_factor': 1.0},\n",
      "  'mmclass_name': 'plain',\n",
      "  'name': 'new_name'}\n"
     ]
    }
   ],
   "source": [
    "[pp.pprint(x.as_dict()) for x in accounts.values()];"
   ]
  },
  {
   "cell_type": "markdown",
   "metadata": {},
   "source": [
    "## View accounts positions (just for demonstration)"
   ]
  },
  {
   "cell_type": "code",
   "execution_count": 15,
   "metadata": {
    "collapsed": false
   },
   "outputs": [
    {
     "name": "stdout",
     "output_type": "stream",
     "text": [
      "{ 'new_account1': { '_id': ObjectId('57e525af8a7ee689de186b3c'),\n",
      "                    'campaign_name': 'test_campaign',\n",
      "                    'client_name': 'test_client',\n",
      "                    'info': {'size_factor': 1.0},\n",
      "                    'mmclass_name': 'plain',\n",
      "                    'name': 'new_account1',\n",
      "                    'positions': { 'C_US_EPZ1519700': { 'asset': { '_id': ObjectId('577a585f4b01f47f84d219b0'),\n",
      "                                                                   '_type': 'opt',\n",
      "                                                                   'callorput': 'C',\n",
      "                                                                   'cqgsymbol': 'C.US.EPZ1519700',\n",
      "                                                                   'expirationdate': datetime.datetime(2015, 12, 18, 0, 0),\n",
      "                                                                   'idcontract': 5265,\n",
      "                                                                   'idinstrument': 11,\n",
      "                                                                   'idoption': 11643921,\n",
      "                                                                   'name': 'C.US.EPZ1519700',\n",
      "                                                                   'optionmonth': 'Z',\n",
      "                                                                   'optionmonthint': 12,\n",
      "                                                                   'optionname': 'C.US.EPZ1519700',\n",
      "                                                                   'optionyear': 2015,\n",
      "                                                                   'strikeprice': 1970.0},\n",
      "                                                        'prev_qty': -2,\n",
      "                                                        'qty': -2},\n",
      "                                   'C_US_EPZ1520700': { 'asset': { '_id': ObjectId('577a585f4b01f47f84d219bc'),\n",
      "                                                                   '_type': 'opt',\n",
      "                                                                   'callorput': 'C',\n",
      "                                                                   'cqgsymbol': 'C.US.EPZ1520700',\n",
      "                                                                   'expirationdate': datetime.datetime(2015, 12, 18, 0, 0),\n",
      "                                                                   'idcontract': 5265,\n",
      "                                                                   'idinstrument': 11,\n",
      "                                                                   'idoption': 11643933,\n",
      "                                                                   'name': 'C.US.EPZ1520700',\n",
      "                                                                   'optionmonth': 'Z',\n",
      "                                                                   'optionmonthint': 12,\n",
      "                                                                   'optionname': 'C.US.EPZ1520700',\n",
      "                                                                   'optionyear': 2015,\n",
      "                                                                   'strikeprice': 2070.0},\n",
      "                                                        'prev_qty': 2,\n",
      "                                                        'qty': 2}}},\n",
      "  'new_name': { '_id': ObjectId('57e52ad98a7ee689de186b3d'),\n",
      "                'campaign_name': 'test_campaign',\n",
      "                'client_name': 'new_client_name',\n",
      "                'info': {'size_factor': 1.0},\n",
      "                'mmclass_name': 'plain',\n",
      "                'name': 'new_name',\n",
      "                'positions': { 'C_US_EPZ1519700': { 'asset': { '_id': ObjectId('577a585f4b01f47f84d219b0'),\n",
      "                                                               '_type': 'opt',\n",
      "                                                               'callorput': 'C',\n",
      "                                                               'cqgsymbol': 'C.US.EPZ1519700',\n",
      "                                                               'expirationdate': datetime.datetime(2015, 12, 18, 0, 0),\n",
      "                                                               'idcontract': 5265,\n",
      "                                                               'idinstrument': 11,\n",
      "                                                               'idoption': 11643921,\n",
      "                                                               'name': 'C.US.EPZ1519700',\n",
      "                                                               'optionmonth': 'Z',\n",
      "                                                               'optionmonthint': 12,\n",
      "                                                               'optionname': 'C.US.EPZ1519700',\n",
      "                                                               'optionyear': 2015,\n",
      "                                                               'strikeprice': 1970.0},\n",
      "                                                    'prev_qty': -2,\n",
      "                                                    'qty': -2},\n",
      "                               'C_US_EPZ1520700': { 'asset': { '_id': ObjectId('577a585f4b01f47f84d219bc'),\n",
      "                                                               '_type': 'opt',\n",
      "                                                               'callorput': 'C',\n",
      "                                                               'cqgsymbol': 'C.US.EPZ1520700',\n",
      "                                                               'expirationdate': datetime.datetime(2015, 12, 18, 0, 0),\n",
      "                                                               'idcontract': 5265,\n",
      "                                                               'idinstrument': 11,\n",
      "                                                               'idoption': 11643933,\n",
      "                                                               'name': 'C.US.EPZ1520700',\n",
      "                                                               'optionmonth': 'Z',\n",
      "                                                               'optionmonthint': 12,\n",
      "                                                               'optionname': 'C.US.EPZ1520700',\n",
      "                                                               'optionyear': 2015,\n",
      "                                                               'strikeprice': 2070.0},\n",
      "                                                    'prev_qty': 2,\n",
      "                                                    'qty': 2}}},\n",
      "  'test_account': { '_id': ObjectId('57e520848a7ee689de186b3b'),\n",
      "                    'campaign_name': 'test_campaign',\n",
      "                    'client_name': 'test_client8',\n",
      "                    'info': {'size_factor': 1.0},\n",
      "                    'mmclass_name': 'plain',\n",
      "                    'name': 'test_account',\n",
      "                    'positions': { 'C_US_EPZ1519700': { 'asset': { '_id': ObjectId('577a585f4b01f47f84d219b0'),\n",
      "                                                                   '_type': 'opt',\n",
      "                                                                   'callorput': 'C',\n",
      "                                                                   'cqgsymbol': 'C.US.EPZ1519700',\n",
      "                                                                   'expirationdate': datetime.datetime(2015, 12, 18, 0, 0),\n",
      "                                                                   'idcontract': 5265,\n",
      "                                                                   'idinstrument': 11,\n",
      "                                                                   'idoption': 11643921,\n",
      "                                                                   'name': 'C.US.EPZ1519700',\n",
      "                                                                   'optionmonth': 'Z',\n",
      "                                                                   'optionmonthint': 12,\n",
      "                                                                   'optionname': 'C.US.EPZ1519700',\n",
      "                                                                   'optionyear': 2015,\n",
      "                                                                   'strikeprice': 1970.0},\n",
      "                                                        'prev_qty': -2,\n",
      "                                                        'qty': -2},\n",
      "                                   'C_US_EPZ1520700': { 'asset': { '_id': ObjectId('577a585f4b01f47f84d219bc'),\n",
      "                                                                   '_type': 'opt',\n",
      "                                                                   'callorput': 'C',\n",
      "                                                                   'cqgsymbol': 'C.US.EPZ1520700',\n",
      "                                                                   'expirationdate': datetime.datetime(2015, 12, 18, 0, 0),\n",
      "                                                                   'idcontract': 5265,\n",
      "                                                                   'idinstrument': 11,\n",
      "                                                                   'idoption': 11643933,\n",
      "                                                                   'name': 'C.US.EPZ1520700',\n",
      "                                                                   'optionmonth': 'Z',\n",
      "                                                                   'optionmonthint': 12,\n",
      "                                                                   'optionname': 'C.US.EPZ1520700',\n",
      "                                                                   'optionyear': 2015,\n",
      "                                                                   'strikeprice': 2070.0},\n",
      "                                                        'prev_qty': 2,\n",
      "                                                        'qty': 2}}}}\n"
     ]
    }
   ],
   "source": [
    "pp.pprint(exmgr.account_positions_process())"
   ]
  },
  {
   "cell_type": "code",
   "execution_count": null,
   "metadata": {
    "collapsed": true
   },
   "outputs": [],
   "source": []
  }
 ],
 "metadata": {
  "kernelspec": {
   "display_name": "Python 3",
   "language": "python",
   "name": "python3"
  },
  "language_info": {
   "codemirror_mode": {
    "name": "ipython",
    "version": 3
   },
   "file_extension": ".py",
   "mimetype": "text/x-python",
   "name": "python",
   "nbconvert_exporter": "python",
   "pygments_lexer": "ipython3",
   "version": "3.5.1"
  }
 },
 "nbformat": 4,
 "nbformat_minor": 0
}
