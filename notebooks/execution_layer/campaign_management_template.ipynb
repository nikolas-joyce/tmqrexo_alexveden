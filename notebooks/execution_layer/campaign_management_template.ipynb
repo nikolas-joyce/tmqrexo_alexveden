{
 "cells": [
  {
   "cell_type": "code",
   "execution_count": 1,
   "metadata": {
    "collapsed": false
   },
   "outputs": [
    {
     "name": "stdout",
     "output_type": "stream",
     "text": [
      "Populating the interactive namespace from numpy and matplotlib\n"
     ]
    }
   ],
   "source": [
    "%pylab inline\n",
    "%load_ext autoreload\n",
    "%autoreload 2"
   ]
  },
  {
   "cell_type": "code",
   "execution_count": 2,
   "metadata": {
    "collapsed": true
   },
   "outputs": [],
   "source": [
    "from tradingcore.execution_manager import ExecutionManager\n",
    "from tradingcore.campaign import Campaign\n",
    "from tradingcore.account import Account\n",
    "from tradingcore.moneymanagement import PlainMM\n",
    "\n",
    "from exobuilder.data.datasource_mongo import DataSourceMongo\n",
    "from exobuilder.data.datasource_sql import DataSourceSQL\n",
    "from exobuilder.data.assetindex_mongo import AssetIndexMongo\n",
    "from exobuilder.data.exostorage import EXOStorage\n",
    "\n",
    "import pprint"
   ]
  },
  {
   "cell_type": "code",
   "execution_count": 3,
   "metadata": {
    "collapsed": true
   },
   "outputs": [],
   "source": [
    "try:\n",
    "    from .settings import *\n",
    "except SystemError:\n",
    "    from scripts.settings import *\n",
    "\n",
    "try:\n",
    "    from .settings_local import *\n",
    "except SystemError:\n",
    "    try:\n",
    "        from scripts.settings_local import *\n",
    "    except ImportError:\n",
    "        pass\n",
    "    pass"
   ]
  },
  {
   "cell_type": "code",
   "execution_count": 4,
   "metadata": {
    "collapsed": false
   },
   "outputs": [],
   "source": [
    "assetindex = AssetIndexMongo(MONGO_CONNSTR, MONGO_EXO_DB)\n",
    "storage = EXOStorage(MONGO_CONNSTR, MONGO_EXO_DB)\n",
    "#datasource = DataSourceSQL(SQL_HOST, SQL_USER, SQL_PASS, assetindex, futures_limit=10, options_limit=10)\n",
    "datasource = DataSourceMongo(MONGO_CONNSTR, MONGO_EXO_DB, assetindex, futures_limit=10, options_limit=10, exostorage=storage)\n"
   ]
  },
  {
   "cell_type": "code",
   "execution_count": 5,
   "metadata": {
    "collapsed": false
   },
   "outputs": [],
   "source": [
    "exmgr = ExecutionManager(MONGO_CONNSTR, datasource, dbname=MONGO_EXO_DB)"
   ]
  },
  {
   "cell_type": "code",
   "execution_count": 6,
   "metadata": {
    "collapsed": true
   },
   "outputs": [],
   "source": [
    "campaigns = exmgr.campaign_load_all()\n",
    "accounts = exmgr.account_load_all()\n",
    "pp = pprint.PrettyPrinter(indent=4)"
   ]
  },
  {
   "cell_type": "markdown",
   "metadata": {},
   "source": [
    "## List of available campaigns"
   ]
  },
  {
   "cell_type": "code",
   "execution_count": 7,
   "metadata": {
    "collapsed": false
   },
   "outputs": [
    {
     "name": "stdout",
     "output_type": "stream",
     "text": [
      "test_campaign\n"
     ]
    }
   ],
   "source": [
    "[print(x) for x in campaigns.keys()];"
   ]
  },
  {
   "cell_type": "code",
   "execution_count": 8,
   "metadata": {
    "collapsed": false
   },
   "outputs": [
    {
     "name": "stdout",
     "output_type": "stream",
     "text": [
      "{   '_id': None,\n",
      "    'alphas': ['MACross', 'RenkoPatterns_no_exit_on_patterns', 'SwingPoint'],\n",
      "    'exo_types': ['CallSpread'],\n",
      "    'instruments': ['ES']}\n"
     ]
    }
   ],
   "source": [
    "swm_info = storage.swarms_info()\n",
    "pp.pprint(swm_info)"
   ]
  },
  {
   "cell_type": "markdown",
   "metadata": {},
   "source": [
    "# Alphas list"
   ]
  },
  {
   "cell_type": "code",
   "execution_count": 9,
   "metadata": {
    "collapsed": false
   },
   "outputs": [
    {
     "name": "stdout",
     "output_type": "stream",
     "text": [
      "ES_CallSpread_Long_MACross\n",
      "ES_CallSpread_Long_SwingPoint\n",
      "ES_CallSpread_Short_MACross\n",
      "ES_CallSpread_Short_RenkoPatterns_no_exit_on_patterns\n",
      "ES_CallSpread_Short_SwingPoint\n"
     ]
    }
   ],
   "source": [
    "instruments_filter = ['*']  # Select ALL\n",
    "#instruments_filter = ['ES', 'CL']\n",
    "\n",
    "exo_filter = ['*'] # Select ALL\n",
    "#exo_filter = ['BullishCollar']\n",
    "\n",
    "direction_filter = [0, -1, 1] # Select ALL\n",
    "#direction_filter = [1]\n",
    "\n",
    "alpha_filter = ['*']  # Select ALL\n",
    "#alpha_filter = ['MaCross', 'PointAndFigurePatterns']\n",
    "\n",
    "swmdf, swm_data = storage.swarms_list(instruments_filter, direction_filter, alpha_filter, exo_filter)\n",
    "\n",
    "[print(s) for s in sorted(swmdf.columns)];"
   ]
  },
  {
   "cell_type": "code",
   "execution_count": 10,
   "metadata": {
    "collapsed": false
   },
   "outputs": [
    {
     "name": "stdout",
     "output_type": "stream",
     "text": [
      "==== Passive EXO list\n",
      "ES_BearishCollarBW\n",
      "ES_BullishCollarBW\n",
      "==== Alphas EXO list\n",
      "ES_CallSpread_Long_MACross\n",
      "ES_CallSpread_Long_SwingPoint\n",
      "ES_CallSpread_Short_MACross\n",
      "ES_CallSpread_Short_RenkoPatterns_no_exit_on_patterns\n",
      "ES_CallSpread_Short_SwingPoint\n"
     ]
    }
   ],
   "source": [
    "passive_exo = {}\n",
    "\n",
    "exo_filter = '*'     # All \n",
    "#exo_filter = 'ES_'  # ES only\n",
    "exo_filter = 'ES*Collar'  # ES Collars (incl Bearish, Bullish, BW and vanilla)\n",
    "\n",
    "\n",
    "print('==== Passive EXO list')\n",
    "for exo_name in storage.exo_list(exo_filter):\n",
    "    passive_exo[exo_name], exo_dict = storage.load_series(exo_name)\n",
    "\n",
    "for exo in sorted(passive_exo.keys()):\n",
    "    print(exo)\n",
    "    \n",
    "print('==== Alphas EXO list')\n",
    "[print(s) for s in sorted(swmdf.columns)];"
   ]
  },
  {
   "cell_type": "code",
   "execution_count": 11,
   "metadata": {
    "collapsed": false
   },
   "outputs": [
    {
     "data": {
      "image/png": "[encoded data removed]",
      "text/plain": [
       "<matplotlib.figure.Figure at 0x7ff4cc51ba20>"
      ]
     },
     "metadata": {},
     "output_type": "display_data"
    }
   ],
   "source": [
    "swmdf.plot().legend(loc='best', bbox_to_anchor=(1, 0.5));"
   ]
  },
  {
   "cell_type": "markdown",
   "metadata": {},
   "source": [
    "# Campaign composition"
   ]
  },
  {
   "cell_type": "code",
   "execution_count": 12,
   "metadata": {
    "collapsed": false
   },
   "outputs": [],
   "source": [
    " campaign_dict = {\n",
    "            'name': 'test_campaign',\n",
    "            'description': 'Brief description of campaign',\n",
    "            'alphas': {\n",
    "                'ES_CallSpread_Long_MACross': {\n",
    "                    'qty': -1.0,\n",
    "                    'leg_name': 'leg1',\n",
    "                },\n",
    "                'ES_BearishCollarBW': {\n",
    "                    'qty': -2.0,\n",
    "                },\n",
    "                'ES_CallSpread_Short_SwingPoint': {\n",
    "                    'qty': 2.0,\n",
    "                    'leg_name': 'leg2',\n",
    "                },\n",
    "            }\n",
    "        }"
   ]
  },
  {
   "cell_type": "code",
   "execution_count": 13,
   "metadata": {
    "collapsed": true
   },
   "outputs": [],
   "source": [
    "cmp = Campaign(campaign_dict, datasource)"
   ]
  },
  {
   "cell_type": "markdown",
   "metadata": {},
   "source": [
    "### Save campaign"
   ]
  },
  {
   "cell_type": "code",
   "execution_count": 24,
   "metadata": {
    "collapsed": true
   },
   "outputs": [],
   "source": [
    "exmgr.campaign_save(cmp)"
   ]
  },
  {
   "cell_type": "markdown",
   "metadata": {},
   "source": [
    "## Campaign positions"
   ]
  },
  {
   "cell_type": "markdown",
   "metadata": {},
   "source": [
    "### Alphas positions"
   ]
  },
  {
   "cell_type": "code",
   "execution_count": 25,
   "metadata": {
    "collapsed": false
   },
   "outputs": [
    {
     "name": "stdout",
     "output_type": "stream",
     "text": [
      "{   'ES_CallSpread_Long_MACross': {   'exo_name': 'ES_CallSpread',\n",
      "                                      'exposure': -0.0,\n",
      "                                      'prev_exposure': -0.0},\n",
      "    'ES_CallSpread_Short_SwingPoint': {   'exo_name': 'ES_CallSpread',\n",
      "                                          'exposure': -2.0,\n",
      "                                          'prev_exposure': -2.0}}\n"
     ]
    }
   ],
   "source": [
    "pp.pprint(cmp.alphas_positions)"
   ]
  },
  {
   "cell_type": "markdown",
   "metadata": {},
   "source": [
    "### EXO net positions"
   ]
  },
  {
   "cell_type": "code",
   "execution_count": 26,
   "metadata": {
    "collapsed": false
   },
   "outputs": [
    {
     "name": "stdout",
     "output_type": "stream",
     "text": [
      "{'ES_CallSpread': {'exposure': -2.0, 'prev_exposure': -2.0}}\n"
     ]
    }
   ],
   "source": [
    "pp.pprint(cmp.exo_positions)"
   ]
  },
  {
   "cell_type": "markdown",
   "metadata": {},
   "source": [
    "### Contracts positions"
   ]
  },
  {
   "cell_type": "code",
   "execution_count": 27,
   "metadata": {
    "collapsed": false
   },
   "outputs": [
    {
     "name": "stdout",
     "output_type": "stream",
     "text": [
      "{   'C.US.EPZ1519700': {   'asset': {   '_id': ObjectId('577a585f4b01f47f84d219b0'),\n",
      "                                        '_type': 'opt',\n",
      "                                        'callorput': 'C',\n",
      "                                        'cqgsymbol': 'C.US.EPZ1519700',\n",
      "                                        'expirationdate': datetime.datetime(2015, 12, 18, 0, 0),\n",
      "                                        'idcontract': 5265,\n",
      "                                        'idinstrument': 11,\n",
      "                                        'idoption': 11643921,\n",
      "                                        'name': 'C.US.EPZ1519700',\n",
      "                                        'optionmonth': 'Z',\n",
      "                                        'optionmonthint': 12,\n",
      "                                        'optionname': 'C.US.EPZ1519700',\n",
      "                                        'optionyear': 2015,\n",
      "                                        'strikeprice': 1970.0},\n",
      "                           'prev_qty': -2.0,\n",
      "                           'qty': -2.0},\n",
      "    'C.US.EPZ1520700': {   'asset': {   '_id': ObjectId('577a585f4b01f47f84d219bc'),\n",
      "                                        '_type': 'opt',\n",
      "                                        'callorput': 'C',\n",
      "                                        'cqgsymbol': 'C.US.EPZ1520700',\n",
      "                                        'expirationdate': datetime.datetime(2015, 12, 18, 0, 0),\n",
      "                                        'idcontract': 5265,\n",
      "                                        'idinstrument': 11,\n",
      "                                        'idoption': 11643933,\n",
      "                                        'name': 'C.US.EPZ1520700',\n",
      "                                        'optionmonth': 'Z',\n",
      "                                        'optionmonthint': 12,\n",
      "                                        'optionname': 'C.US.EPZ1520700',\n",
      "                                        'optionyear': 2015,\n",
      "                                        'strikeprice': 2070.0},\n",
      "                           'prev_qty': 2.0,\n",
      "                           'qty': 2.0}}\n"
     ]
    }
   ],
   "source": [
    "pp.pprint(cmp.positions)"
   ]
  },
  {
   "cell_type": "code",
   "execution_count": null,
   "metadata": {
    "collapsed": true
   },
   "outputs": [],
   "source": []
  }
 ],
 "metadata": {
  "kernelspec": {
   "display_name": "Python 3",
   "language": "python",
   "name": "python3"
  },
  "language_info": {
   "codemirror_mode": {
    "name": "ipython",
    "version": 3
   },
   "file_extension": ".py",
   "mimetype": "text/x-python",
   "name": "python",
   "nbconvert_exporter": "python",
   "pygments_lexer": "ipython3",
   "version": "3.5.1"
  }
 },
 "nbformat": 4,
 "nbformat_minor": 0
}
