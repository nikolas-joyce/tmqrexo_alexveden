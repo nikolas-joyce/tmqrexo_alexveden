{
 "cells": [
  {
   "cell_type": "code",
   "execution_count": 1,
   "metadata": {
    "collapsed": true
   },
   "outputs": [],
   "source": [
    "from tradingcore.execution_manager import ExecutionManager\n",
    "from tradingcore.campaign import Campaign\n",
    "from tradingcore.account import Account\n",
    "from tradingcore.moneymanagement import PlainMM\n",
    "\n",
    "from exobuilder.data.datasource_mongo import DataSourceMongo\n",
    "from exobuilder.data.datasource_sql import DataSourceSQL\n",
    "from exobuilder.data.assetindex_mongo import AssetIndexMongo\n",
    "\n",
    "import pprint"
   ]
  },
  {
   "cell_type": "code",
   "execution_count": 2,
   "metadata": {
    "collapsed": true
   },
   "outputs": [],
   "source": [
    "try:\n",
    "    from .settings import *\n",
    "except SystemError:\n",
    "    from scripts.settings import *\n",
    "\n",
    "try:\n",
    "    from .settings_local import *\n",
    "except SystemError:\n",
    "    try:\n",
    "        from scripts.settings_local import *\n",
    "    except ImportError:\n",
    "        pass\n",
    "    pass"
   ]
  },
  {
   "cell_type": "code",
   "execution_count": 3,
   "metadata": {
    "collapsed": false
   },
   "outputs": [],
   "source": [
    "assetindex = AssetIndexMongo(MONGO_CONNSTR, MONGO_EXO_DB)\n",
    "#datasource = DataSourceSQL(SQL_HOST, SQL_USER, SQL_PASS, assetindex, futures_limit=10, options_limit=10)\n",
    "datasource = DataSourceMongo(MONGO_CONNSTR, MONGO_EXO_DB, assetindex, futures_limit=10, options_limit=10)"
   ]
  },
  {
   "cell_type": "code",
   "execution_count": 4,
   "metadata": {
    "collapsed": false
   },
   "outputs": [],
   "source": [
    "exmgr = ExecutionManager(MONGO_CONNSTR, datasource, dbname=MONGO_EXO_DB)"
   ]
  },
  {
   "cell_type": "code",
   "execution_count": 15,
   "metadata": {
    "collapsed": true
   },
   "outputs": [],
   "source": [
    "campaigns = exmgr.campaign_load_all()\n",
    "accounts = exmgr.account_load_all()\n",
    "pp = pprint.PrettyPrinter(indent=4)"
   ]
  },
  {
   "cell_type": "markdown",
   "metadata": {},
   "source": [
    "## List of available campaigns"
   ]
  },
  {
   "cell_type": "code",
   "execution_count": 16,
   "metadata": {
    "collapsed": false
   },
   "outputs": [
    {
     "name": "stdout",
     "output_type": "stream",
     "text": [
      "test_campaign\n"
     ]
    }
   ],
   "source": [
    "[print(x) for x in campaigns.keys()];"
   ]
  },
  {
   "cell_type": "markdown",
   "metadata": {},
   "source": [
    "## List of available accounts"
   ]
  },
  {
   "cell_type": "code",
   "execution_count": 17,
   "metadata": {
    "collapsed": false
   },
   "outputs": [
    {
     "name": "stdout",
     "output_type": "stream",
     "text": [
      "new_name\n",
      "new_account1\n",
      "test_account\n"
     ]
    }
   ],
   "source": [
    "[print(x) for x in accounts.keys()];"
   ]
  },
  {
   "cell_type": "markdown",
   "metadata": {},
   "source": [
    "# Add new account"
   ]
  },
  {
   "cell_type": "code",
   "execution_count": 8,
   "metadata": {
    "collapsed": true
   },
   "outputs": [],
   "source": [
    "acc_name = 'new_account1'\n",
    "acc_campaign = 'test_campaign'\n",
    "acc_client = 'test_client'\n",
    "acc_size_factor = 1.0"
   ]
  },
  {
   "cell_type": "code",
   "execution_count": 9,
   "metadata": {
    "collapsed": false
   },
   "outputs": [
    {
     "name": "stdout",
     "output_type": "stream",
     "text": [
      "{   'campaign_name': 'test_campaign',\n",
      "    'client_name': 'test_client',\n",
      "    'info': {'size_factor': 1.0},\n",
      "    'mmclass_name': 'plain',\n",
      "    'name': 'new_account1'}\n"
     ]
    }
   ],
   "source": [
    "acc_dict = {\n",
    "            'name': acc_name,\n",
    "            'client_name': acc_client,\n",
    "            'info': {\n",
    "                'size_factor': acc_size_factor,\n",
    "            }\n",
    "        }\n",
    "\n",
    "_campaign = campaigns[acc_campaign]\n",
    "# Account MM class\n",
    "mmclass = PlainMM(acc_dict['info'])\n",
    "\n",
    "new_acc = Account(acc_dict, _campaign, mmclass)\n",
    "\n",
    "pp.pprint(new_acc.as_dict())"
   ]
  },
  {
   "cell_type": "markdown",
   "metadata": {},
   "source": [
    "### Save new account to DB"
   ]
  },
  {
   "cell_type": "code",
   "execution_count": 10,
   "metadata": {
    "collapsed": true
   },
   "outputs": [],
   "source": [
    "exmgr.account_save(new_acc)"
   ]
  },
  {
   "cell_type": "markdown",
   "metadata": {},
   "source": [
    "# Single account edit"
   ]
  },
  {
   "cell_type": "code",
   "execution_count": 18,
   "metadata": {
    "collapsed": true
   },
   "outputs": [],
   "source": [
    "acc_name = 'test_account'"
   ]
  },
  {
   "cell_type": "code",
   "execution_count": 19,
   "metadata": {
    "collapsed": false
   },
   "outputs": [
    {
     "name": "stdout",
     "output_type": "stream",
     "text": [
      "{   'campaign_name': 'test_campaign',\n",
      "    'client_name': 'test_client8',\n",
      "    'info': {'size_factor': 1.0},\n",
      "    'mmclass_name': 'plain',\n",
      "    'name': 'test_account'}\n"
     ]
    }
   ],
   "source": [
    "acc = exmgr.account_load(acc_name)\n",
    "pp.pprint(acc.as_dict())"
   ]
  },
  {
   "cell_type": "code",
   "execution_count": 20,
   "metadata": {
    "collapsed": false
   },
   "outputs": [],
   "source": [
    "acc.name = 'new_name'\n",
    "acc.client_name = 'new_client_name'\n",
    "acc.info = {'size_factor': 1.0}\n",
    "acc.mmclass = PlainMM(acc.info)"
   ]
  },
  {
   "cell_type": "markdown",
   "metadata": {},
   "source": [
    "### Save changes"
   ]
  },
  {
   "cell_type": "code",
   "execution_count": 21,
   "metadata": {
    "collapsed": true
   },
   "outputs": [],
   "source": [
    "exmgr.account_save(acc)"
   ]
  },
  {
   "cell_type": "markdown",
   "metadata": {},
   "source": [
    "### Account information"
   ]
  },
  {
   "cell_type": "code",
   "execution_count": 22,
   "metadata": {
    "collapsed": false
   },
   "outputs": [
    {
     "name": "stdout",
     "output_type": "stream",
     "text": [
      "{   'campaign_name': 'test_campaign',\n",
      "    'client_name': 'new_client_name',\n",
      "    'info': {'size_factor': 1.0},\n",
      "    'mmclass_name': 'plain',\n",
      "    'name': 'new_name'}\n"
     ]
    }
   ],
   "source": [
    "pp.pprint(acc.as_dict())"
   ]
  },
  {
   "cell_type": "code",
   "execution_count": null,
   "metadata": {
    "collapsed": true
   },
   "outputs": [],
   "source": []
  }
 ],
 "metadata": {
  "kernelspec": {
   "display_name": "Python 3",
   "language": "python",
   "name": "python3"
  },
  "language_info": {
   "codemirror_mode": {
    "name": "ipython",
    "version": 3
   },
   "file_extension": ".py",
   "mimetype": "text/x-python",
   "name": "python",
   "nbconvert_exporter": "python",
   "pygments_lexer": "ipython3",
   "version": "3.5.2"
  }
 },
 "nbformat": 4,
 "nbformat_minor": 0
}
