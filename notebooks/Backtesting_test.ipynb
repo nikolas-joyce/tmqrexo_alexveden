{
 "cells": [
  {
   "cell_type": "code",
   "execution_count": 1,
   "metadata": {
    "collapsed": false
   },
   "outputs": [],
   "source": [
    "import sys\n",
    "sys.path.append('..')\n",
    "from backtester import matlab\n",
    "import pandas as pd\n",
    "import numpy as np"
   ]
  },
  {
   "cell_type": "code",
   "execution_count": 2,
   "metadata": {
    "collapsed": true
   },
   "outputs": [],
   "source": [
    "%matplotlib inline"
   ]
  },
  {
   "cell_type": "code",
   "execution_count": 3,
   "metadata": {
    "collapsed": false
   },
   "outputs": [],
   "source": [
    "d, info = matlab.loaddata('../mat/strategy_270225.mat')"
   ]
  },
  {
   "cell_type": "code",
   "execution_count": 4,
   "metadata": {
    "collapsed": false
   },
   "outputs": [
    {
     "data": {
      "text/plain": [
       "<matplotlib.axes._subplots.AxesSubplot at 0x96397b8>"
      ]
     },
     "execution_count": 4,
     "metadata": {},
     "output_type": "execute_result"
    },
    {
     "data": {
      "image/png": "[encoded data removed]",
      "text/plain": [
       "<matplotlib.figure.Figure at 0x959ef28>"
      ]
     },
     "metadata": {},
     "output_type": "display_data"
    }
   ],
   "source": [
    "d.exo.plot()"
   ]
  },
  {
   "cell_type": "code",
   "execution_count": 5,
   "metadata": {
    "collapsed": false
   },
   "outputs": [
    {
     "data": {
      "text/plain": [
       "{'legs': 4,\n",
       " 'name': 'BearishCollarBrokenWing',\n",
       " 'pcf': array([1, 2, 0, 1], dtype=uint8),\n",
       " 'pcfqty': array([-1, -1,  1,  1], dtype=int16),\n",
       " 'tickincrement': 0.25,\n",
       " 'tickvalue': 12.5,\n",
       " 'underlying': 'EP'}"
      ]
     },
     "execution_count": 5,
     "metadata": {},
     "output_type": "execute_result"
    }
   ],
   "source": [
    "info"
   ]
  },
  {
   "cell_type": "code",
   "execution_count": 35,
   "metadata": {
    "collapsed": false
   },
   "outputs": [],
   "source": [
    "data = d\n",
    "\n",
    "direction = -1\n",
    "entry_rule = pd.Series(index=price.index)\n",
    "exit_rule = pd.Series(index=price.index)\n",
    "\n",
    "month = pd.Series(d.index.month, index=d.index)\n",
    "\n",
    "entry_rule = month != month.shift()\n",
    "\n",
    "# Close position 3 days before new month\n",
    "# this is a future reference, only for test purposes\n",
    "exit_rule = month != month.shift(-3) \n"
   ]
  },
  {
   "cell_type": "code",
   "execution_count": 36,
   "metadata": {
    "collapsed": true
   },
   "outputs": [],
   "source": [
    "price = data['exo']\n",
    "\n",
    "pl = pd.Series(index=price.index)\n",
    "inpositon = pd.Series(index=price.index)"
   ]
  },
  {
   "cell_type": "code",
   "execution_count": 37,
   "metadata": {
    "collapsed": false
   },
   "outputs": [],
   "source": [
    "start_idx = -1\n",
    "inpos = False\n",
    "\n",
    "for i, px in enumerate(price):\n",
    "    if not inpos:        \n",
    "        # We have a signal, let's open position\n",
    "        if entry_rule.values[i] == 1:\n",
    "            start_idx = i\n",
    "            pl.values[i] = 0\n",
    "            inpos = True\n",
    "            inpositon.values[i] = 1            \n",
    "        else:\n",
    "            inpositon.values[i] = 0\n",
    "            \n",
    "    else:\n",
    "        # Calculate pl\n",
    "        pl.values[i] = (price.values[i] - price.values[start_idx])*direction\n",
    "        inpositon.values[i] = 1        \n",
    "        \n",
    "        if exit_rule.values[i] == 1:\n",
    "            start_idx = -1\n",
    "            inpos = False\n",
    "    \n",
    "    "
   ]
  },
  {
   "cell_type": "code",
   "execution_count": null,
   "metadata": {
    "collapsed": true
   },
   "outputs": [],
   "source": []
  },
  {
   "cell_type": "code",
   "execution_count": null,
   "metadata": {
    "collapsed": true
   },
   "outputs": [],
   "source": []
  }
 ],
 "metadata": {
  "kernelspec": {
   "display_name": "Python 3",
   "language": "python",
   "name": "python3"
  },
  "language_info": {
   "codemirror_mode": {
    "name": "ipython",
    "version": 3
   },
   "file_extension": ".py",
   "mimetype": "text/x-python",
   "name": "python",
   "nbconvert_exporter": "python",
   "pygments_lexer": "ipython3",
   "version": "3.4.3"
  }
 },
 "nbformat": 4,
 "nbformat_minor": 0
}
