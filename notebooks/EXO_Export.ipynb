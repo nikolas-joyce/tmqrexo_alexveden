{
 "cells": [
  {
   "cell_type": "code",
   "execution_count": 1,
   "metadata": {
    "collapsed": false
   },
   "outputs": [
    {
     "name": "stdout",
     "output_type": "stream",
     "text": [
      "Populating the interactive namespace from numpy and matplotlib\n"
     ]
    }
   ],
   "source": [
    "%pylab inline\n",
    "%load_ext autoreload\n",
    "%autoreload 2"
   ]
  },
  {
   "cell_type": "code",
   "execution_count": 2,
   "metadata": {
    "collapsed": false
   },
   "outputs": [],
   "source": [
    "import sys,os\n",
    "sys.path.append('..')\n",
    "sys.path.append('../..')\n",
    "from backtester import matlab, backtester\n",
    "from backtester.analysis import *\n",
    "from backtester.swarms.swarm import Swarm\n",
    "from backtester.exoinfo import EXOInfo\n",
    "from exobuilder.data.exostorage import EXOStorage\n",
    "from IPython.core.display import display, HTML\n",
    "\n",
    "import pandas as pd\n",
    "import numpy as np\n",
    "import scipy\n",
    "import pprint"
   ]
  },
  {
   "cell_type": "code",
   "execution_count": 3,
   "metadata": {
    "collapsed": true
   },
   "outputs": [],
   "source": [
    "# Loading global setting for MongoDB etc.\n",
    "from scripts.settings import *\n",
    "\n",
    "try:\n",
    "    from scripts.settings_local import *\n",
    "except:\n",
    "    pass"
   ]
  },
  {
   "cell_type": "code",
   "execution_count": 4,
   "metadata": {
    "collapsed": false
   },
   "outputs": [],
   "source": [
    "storage = EXOStorage(MONGO_CONNSTR, MONGO_EXO_DB)\n",
    "pp = pprint.PrettyPrinter(indent=4)\n"
   ]
  },
  {
   "cell_type": "markdown",
   "metadata": {},
   "source": [
    "## View EXO data"
   ]
  },
  {
   "cell_type": "code",
   "execution_count": 5,
   "metadata": {
    "collapsed": false
   },
   "outputs": [],
   "source": [
    "exo_list = storage.exo_list()"
   ]
  },
  {
   "cell_type": "code",
   "execution_count": 6,
   "metadata": {
    "collapsed": false
   },
   "outputs": [
    {
     "name": "stdout",
     "output_type": "stream",
     "text": [
      "[   'ES_BullishCollarBW',\n",
      "    'ES_BearishCollarBW',\n",
      "    'ES_CallSpread',\n",
      "    'ES_PutSpread',\n",
      "    'ES_BullishCollar',\n",
      "    'CL_BullishCollarBW',\n",
      "    'CL_BearishCollarBW',\n",
      "    'ES_ContFut',\n",
      "    'ES_BullishCall',\n",
      "    'CL_CallSpread',\n",
      "    'CL_PutSpread',\n",
      "    'ZN_BullishCollarBW',\n",
      "    'ZN_BearishCollarBW',\n",
      "    'ZN_CallSpread',\n",
      "    'ZN_PutSpread']\n"
     ]
    }
   ],
   "source": [
    "pp.pprint(exo_list)"
   ]
  },
  {
   "cell_type": "markdown",
   "metadata": {},
   "source": [
    "### View single EXO"
   ]
  },
  {
   "cell_type": "code",
   "execution_count": 16,
   "metadata": {
    "collapsed": true
   },
   "outputs": [],
   "source": [
    "exo_series, exo_dict = storage.load_series('ES_BullishCollarBW')"
   ]
  },
  {
   "cell_type": "code",
   "execution_count": 17,
   "metadata": {
    "collapsed": false
   },
   "outputs": [
    {
     "name": "stdout",
     "output_type": "stream",
     "text": [
      "{   'margin': 0,\n",
      "    'name': 'ES_BullishCollarBW',\n",
      "    'pcf': [],\n",
      "    'pcfqty': [],\n",
      "    'underlying': ''}\n"
     ]
    }
   ],
   "source": [
    "# Exo meta-information\n",
    "pp.pprint(exo_dict)"
   ]
  },
  {
   "cell_type": "code",
   "execution_count": 18,
   "metadata": {
    "collapsed": false
   },
   "outputs": [
    {
     "data": {
      "text/plain": [
       "<matplotlib.axes._subplots.AxesSubplot at 0x7f2615698a58>"
      ]
     },
     "execution_count": 18,
     "metadata": {},
     "output_type": "execute_result"
    },
    {
     "data": {
      "image/png": "[encoded data removed]",
      "text/plain": [
       "<matplotlib.figure.Figure at 0x7f261568c198>"
      ]
     },
     "metadata": {},
     "output_type": "display_data"
    }
   ],
   "source": [
    "exo_series['exo'].plot()"
   ]
  },
  {
   "cell_type": "markdown",
   "metadata": {},
   "source": [
    "### Save EXO data to CSVs"
   ]
  },
  {
   "cell_type": "code",
   "execution_count": 29,
   "metadata": {
    "collapsed": false
   },
   "outputs": [
    {
     "data": {
      "text/html": [
       "<h3>EXO list available for downloading</h3>"
      ],
      "text/plain": [
       "<IPython.core.display.HTML object>"
      ]
     },
     "metadata": {},
     "output_type": "display_data"
    },
    {
     "data": {
      "text/html": [
       "<a href=\"export/exo/CL_BearishCollarBW.csv\" target=\"_blank\">CL_BearishCollarBW</a><br><a href=\"export/exo/CL_BullishCollarBW.csv\" target=\"_blank\">CL_BullishCollarBW</a><br><a href=\"export/exo/CL_CallSpread.csv\" target=\"_blank\">CL_CallSpread</a><br><a href=\"export/exo/CL_PutSpread.csv\" target=\"_blank\">CL_PutSpread</a><br><a href=\"export/exo/ES_BearishCollarBW.csv\" target=\"_blank\">ES_BearishCollarBW</a><br><a href=\"export/exo/ES_BullishCall.csv\" target=\"_blank\">ES_BullishCall</a><br><a href=\"export/exo/ES_BullishCollar.csv\" target=\"_blank\">ES_BullishCollar</a><br><a href=\"export/exo/ES_BullishCollarBW.csv\" target=\"_blank\">ES_BullishCollarBW</a><br><a href=\"export/exo/ES_CallSpread.csv\" target=\"_blank\">ES_CallSpread</a><br><a href=\"export/exo/ES_ContFut.csv\" target=\"_blank\">ES_ContFut</a><br><a href=\"export/exo/ES_PutSpread.csv\" target=\"_blank\">ES_PutSpread</a><br><a href=\"export/exo/ZN_BearishCollarBW.csv\" target=\"_blank\">ZN_BearishCollarBW</a><br><a href=\"export/exo/ZN_BullishCollarBW.csv\" target=\"_blank\">ZN_BullishCollarBW</a><br><a href=\"export/exo/ZN_CallSpread.csv\" target=\"_blank\">ZN_CallSpread</a><br><a href=\"export/exo/ZN_PutSpread.csv\" target=\"_blank\">ZN_PutSpread</a><br>"
      ],
      "text/plain": [
       "<IPython.core.display.HTML object>"
      ]
     },
     "metadata": {},
     "output_type": "display_data"
    }
   ],
   "source": [
    "links = ''\n",
    "if not os.path.exists('export'):\n",
    "    os.mkdir('export')\n",
    "if not os.path.exists(os.path.join('export', 'exo')):\n",
    "    os.mkdir(os.path.join('export', 'exo'))\n",
    "    \n",
    "for exo_name in sorted(exo_list):\n",
    "    exo_series, exo_dict = storage.load_series(exo_name)\n",
    "    exo_series['exo'].to_csv(os.path.join('export', 'exo', exo_name+'.csv'))    \n",
    "    links += '<a href=\"export/exo/{0}.csv\" target=\"_blank\">{0}</a><br>'.format(exo_name)\n",
    "\n",
    "display(HTML('<h3>EXO list available for downloading</h3>'))\n",
    "display(HTML(links))"
   ]
  },
  {
   "cell_type": "markdown",
   "metadata": {},
   "source": [
    "# Alpha export"
   ]
  },
  {
   "cell_type": "markdown",
   "metadata": {},
   "source": [
    "### List of available products in Mongo"
   ]
  },
  {
   "cell_type": "code",
   "execution_count": 32,
   "metadata": {
    "collapsed": false
   },
   "outputs": [
    {
     "name": "stdout",
     "output_type": "stream",
     "text": [
      "{   '_id': None,\n",
      "    'alphas': [   'RenkoPatterns_no_exit_on_patterns',\n",
      "                  'PointAndFigurePatterns',\n",
      "                  'SwingPoint',\n",
      "                  'MACross',\n",
      "                  'IchimokuCloud',\n",
      "                  'VolatilityCompression',\n",
      "                  'BollingerBands'],\n",
      "    'exo_types': [   'BullishCall',\n",
      "                     'PutSpread',\n",
      "                     'CallSpread',\n",
      "                     'BullishCollar',\n",
      "                     'BearishCollarBW',\n",
      "                     'ContFut',\n",
      "                     'BullishCollarBW'],\n",
      "    'instruments': ['CL', 'ES']}\n"
     ]
    }
   ],
   "source": [
    "swm_info = storage.swarms_info()\n",
    "pp.pprint(swm_info)"
   ]
  },
  {
   "cell_type": "markdown",
   "metadata": {},
   "source": [
    "### Getting swarm using filter"
   ]
  },
  {
   "cell_type": "code",
   "execution_count": 33,
   "metadata": {
    "collapsed": false
   },
   "outputs": [],
   "source": [
    "instruments_filter = ['*']  # Select ALL\n",
    "#instruments_filter = ['ES', 'CL']\n",
    "\n",
    "exo_filter = ['*'] # Select ALL\n",
    "exo_filter = ['BullishCollar']\n",
    "\n",
    "direction_filter = [0, -1, 1] # Select ALL\n",
    "direction_filter = [1]\n",
    "\n",
    "alpha_filter = ['*']  # Select ALL\n",
    "#alpha_filter = ['MaCross', 'PointAndFigurePatterns']\n",
    "\n",
    "swmdf, swm_data = storage.swarms_list(instruments_filter, direction_filter, alpha_filter, exo_filter)"
   ]
  },
  {
   "cell_type": "markdown",
   "metadata": {},
   "source": [
    "## Swarms loaded"
   ]
  },
  {
   "cell_type": "code",
   "execution_count": 34,
   "metadata": {
    "collapsed": false
   },
   "outputs": [
    {
     "name": "stdout",
     "output_type": "stream",
     "text": [
      "CL_BullishCollarBW_Long_BollingerBands\n",
      "CL_BullishCollarBW_Long_IchimokuCloud\n",
      "CL_BullishCollarBW_Long_MACross\n",
      "CL_BullishCollarBW_Long_PointAndFigurePatterns\n",
      "CL_BullishCollarBW_Long_RenkoPatterns_no_exit_on_patterns_no-exit-on-patterns\n",
      "CL_BullishCollarBW_Long_SwingPoint\n",
      "CL_BullishCollarBW_Long_VolatilityCompression\n",
      "ES_BullishCollarBW_Long_BollingerBands\n",
      "ES_BullishCollarBW_Long_IchimokuCloud\n",
      "ES_BullishCollarBW_Long_MACross\n",
      "ES_BullishCollarBW_Long_PointAndFigurePatterns\n",
      "ES_BullishCollarBW_Long_RenkoPatterns_no_exit_on_patterns_no-exit-on-patterns\n",
      "ES_BullishCollarBW_Long_SwingPoint\n",
      "ES_BullishCollarBW_Long_VolatilityCompression\n",
      "ES_BullishCollar_Long_BollingerBands\n",
      "ES_BullishCollar_Long_IchimokuCloud\n",
      "ES_BullishCollar_Long_MACross\n",
      "ES_BullishCollar_Long_PointAndFigurePatterns\n",
      "ES_BullishCollar_Long_RenkoPatterns_no_exit_on_patterns_no-exit-on-patterns\n",
      "ES_BullishCollar_Long_SwingPoint\n",
      "ES_BullishCollar_Long_VolatilityCompression\n"
     ]
    }
   ],
   "source": [
    "[print(s) for s in sorted(swmdf.columns)];"
   ]
  },
  {
   "cell_type": "markdown",
   "metadata": {},
   "source": [
    "### Saving swarm equities (picked_equity lines)"
   ]
  },
  {
   "cell_type": "code",
   "execution_count": 35,
   "metadata": {
    "collapsed": false
   },
   "outputs": [
    {
     "data": {
      "text/html": [
       "<h3>Swarms list available for downloading</h3>"
      ],
      "text/plain": [
       "<IPython.core.display.HTML object>"
      ]
     },
     "metadata": {},
     "output_type": "display_data"
    },
    {
     "data": {
      "text/html": [
       "<a href=\"export/swarms/CL_BullishCollarBW_Long_BollingerBands.csv\" target=\"_blank\">CL_BullishCollarBW_Long_BollingerBands</a><br><a href=\"export/swarms/CL_BullishCollarBW_Long_IchimokuCloud.csv\" target=\"_blank\">CL_BullishCollarBW_Long_IchimokuCloud</a><br><a href=\"export/swarms/CL_BullishCollarBW_Long_MACross.csv\" target=\"_blank\">CL_BullishCollarBW_Long_MACross</a><br><a href=\"export/swarms/CL_BullishCollarBW_Long_PointAndFigurePatterns.csv\" target=\"_blank\">CL_BullishCollarBW_Long_PointAndFigurePatterns</a><br><a href=\"export/swarms/CL_BullishCollarBW_Long_RenkoPatterns_no_exit_on_patterns_no-exit-on-patterns.csv\" target=\"_blank\">CL_BullishCollarBW_Long_RenkoPatterns_no_exit_on_patterns_no-exit-on-patterns</a><br><a href=\"export/swarms/CL_BullishCollarBW_Long_SwingPoint.csv\" target=\"_blank\">CL_BullishCollarBW_Long_SwingPoint</a><br><a href=\"export/swarms/CL_BullishCollarBW_Long_VolatilityCompression.csv\" target=\"_blank\">CL_BullishCollarBW_Long_VolatilityCompression</a><br><a href=\"export/swarms/ES_BullishCollarBW_Long_BollingerBands.csv\" target=\"_blank\">ES_BullishCollarBW_Long_BollingerBands</a><br><a href=\"export/swarms/ES_BullishCollarBW_Long_IchimokuCloud.csv\" target=\"_blank\">ES_BullishCollarBW_Long_IchimokuCloud</a><br><a href=\"export/swarms/ES_BullishCollarBW_Long_MACross.csv\" target=\"_blank\">ES_BullishCollarBW_Long_MACross</a><br><a href=\"export/swarms/ES_BullishCollarBW_Long_PointAndFigurePatterns.csv\" target=\"_blank\">ES_BullishCollarBW_Long_PointAndFigurePatterns</a><br><a href=\"export/swarms/ES_BullishCollarBW_Long_RenkoPatterns_no_exit_on_patterns_no-exit-on-patterns.csv\" target=\"_blank\">ES_BullishCollarBW_Long_RenkoPatterns_no_exit_on_patterns_no-exit-on-patterns</a><br><a href=\"export/swarms/ES_BullishCollarBW_Long_SwingPoint.csv\" target=\"_blank\">ES_BullishCollarBW_Long_SwingPoint</a><br><a href=\"export/swarms/ES_BullishCollarBW_Long_VolatilityCompression.csv\" target=\"_blank\">ES_BullishCollarBW_Long_VolatilityCompression</a><br><a href=\"export/swarms/ES_BullishCollar_Long_BollingerBands.csv\" target=\"_blank\">ES_BullishCollar_Long_BollingerBands</a><br><a href=\"export/swarms/ES_BullishCollar_Long_IchimokuCloud.csv\" target=\"_blank\">ES_BullishCollar_Long_IchimokuCloud</a><br><a href=\"export/swarms/ES_BullishCollar_Long_MACross.csv\" target=\"_blank\">ES_BullishCollar_Long_MACross</a><br><a href=\"export/swarms/ES_BullishCollar_Long_PointAndFigurePatterns.csv\" target=\"_blank\">ES_BullishCollar_Long_PointAndFigurePatterns</a><br><a href=\"export/swarms/ES_BullishCollar_Long_RenkoPatterns_no_exit_on_patterns_no-exit-on-patterns.csv\" target=\"_blank\">ES_BullishCollar_Long_RenkoPatterns_no_exit_on_patterns_no-exit-on-patterns</a><br><a href=\"export/swarms/ES_BullishCollar_Long_SwingPoint.csv\" target=\"_blank\">ES_BullishCollar_Long_SwingPoint</a><br><a href=\"export/swarms/ES_BullishCollar_Long_VolatilityCompression.csv\" target=\"_blank\">ES_BullishCollar_Long_VolatilityCompression</a><br>"
      ],
      "text/plain": [
       "<IPython.core.display.HTML object>"
      ]
     },
     "metadata": {},
     "output_type": "display_data"
    }
   ],
   "source": [
    "\n",
    "\n",
    "links = ''\n",
    "if not os.path.exists('export'):\n",
    "    os.mkdir('export')\n",
    "if not os.path.exists(os.path.join('export', 'swarms')):\n",
    "    os.mkdir(os.path.join('export', 'swarms'))\n",
    "    \n",
    "for swm_name in sorted(sorted(swmdf.columns)):\n",
    "    \n",
    "    swmdf[swm_name].to_csv(os.path.join('export', 'swarms', swm_name+'.csv'))    \n",
    "    \n",
    "    links += '<a href=\"export/swarms/{0}.csv\" target=\"_blank\">{0}</a><br>'.format(swm_name)\n",
    "\n",
    "display(HTML('<h3>Swarms list available for downloading</h3>'))\n",
    "display(HTML(links))"
   ]
  },
  {
   "cell_type": "markdown",
   "metadata": {
    "collapsed": true
   },
   "source": [
    "# Add all files to the ZIP archive"
   ]
  },
  {
   "cell_type": "code",
   "execution_count": 41,
   "metadata": {
    "collapsed": false
   },
   "outputs": [
    {
     "data": {
      "text/html": [
       "<a href=\"export.zip\" target=\"_blank\">Download all files (.zip archive)</a>"
      ],
      "text/plain": [
       "<IPython.core.display.HTML object>"
      ]
     },
     "metadata": {},
     "output_type": "display_data"
    }
   ],
   "source": [
    "import shutil\n",
    "shutil.make_archive('export', 'zip', 'export');\n",
    "display(HTML('<a href=\"export.zip\" target=\"_blank\">Download all files (.zip archive)</a>'))"
   ]
  },
  {
   "cell_type": "code",
   "execution_count": null,
   "metadata": {
    "collapsed": true
   },
   "outputs": [],
   "source": []
  }
 ],
 "metadata": {
  "kernelspec": {
   "display_name": "Python [Root]",
   "language": "python",
   "name": "Python [Root]"
  },
  "language_info": {
   "codemirror_mode": {
    "name": "ipython",
    "version": 3
   },
   "file_extension": ".py",
   "mimetype": "text/x-python",
   "name": "python",
   "nbconvert_exporter": "python",
   "pygments_lexer": "ipython3",
   "version": "3.5.2"
  }
 },
 "nbformat": 4,
 "nbformat_minor": 0
}
